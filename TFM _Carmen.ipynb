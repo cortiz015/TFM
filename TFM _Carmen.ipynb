{
 "cells": [
  {
   "cell_type": "code",
   "execution_count": 594,
   "metadata": {},
   "outputs": [],
   "source": [
    "import os\n",
    "import pandas as pd\n",
    "import numpy as np\n",
    "from sklearn.feature_selection import VarianceThreshold\n",
    "import matplotlib.pyplot as plt\n",
    "import seaborn as sns\n",
    "from sklearn.preprocessing import StandardScaler\n",
    "from sklearn.model_selection import train_test_split\n",
    "from sklearn.metrics import accuracy_score, precision_score, recall_score, confusion_matrix\n",
    "from sklearn.model_selection import GridSearchCV\n",
    "from sklearn.ensemble import RandomForestClassifier\n",
    "from sklearn.svm import SVC\n",
    "from sklearn.neighbors import KNeighborsClassifier\n",
    "from sklearn.naive_bayes import GaussianNB\n",
    "from sklearn.metrics import roc_auc_score,roc_curve,auc\n",
    "from sklearn.linear_model import LogisticRegression\n",
    "from sklearn.model_selection import cross_val_score"
   ]
  },
  {
   "cell_type": "markdown",
   "metadata": {},
   "source": [
    "# 1. Análisis inicial y limpieza de datos"
   ]
  },
  {
   "cell_type": "code",
   "execution_count": 595,
   "metadata": {},
   "outputs": [
    {
     "data": {
      "text/html": [
       "<div>\n",
       "<style scoped>\n",
       "    .dataframe tbody tr th:only-of-type {\n",
       "        vertical-align: middle;\n",
       "    }\n",
       "\n",
       "    .dataframe tbody tr th {\n",
       "        vertical-align: top;\n",
       "    }\n",
       "\n",
       "    .dataframe thead th {\n",
       "        text-align: right;\n",
       "    }\n",
       "</style>\n",
       "<table border=\"1\" class=\"dataframe\">\n",
       "  <thead>\n",
       "    <tr style=\"text-align: right;\">\n",
       "      <th></th>\n",
       "      <th>age</th>\n",
       "      <th>job</th>\n",
       "      <th>marital</th>\n",
       "      <th>education</th>\n",
       "      <th>default</th>\n",
       "      <th>balance</th>\n",
       "      <th>housing</th>\n",
       "      <th>loan</th>\n",
       "      <th>contact</th>\n",
       "      <th>day</th>\n",
       "      <th>month</th>\n",
       "      <th>duration</th>\n",
       "      <th>campaign</th>\n",
       "      <th>pdays</th>\n",
       "      <th>previous</th>\n",
       "      <th>poutcome</th>\n",
       "      <th>deposit</th>\n",
       "    </tr>\n",
       "  </thead>\n",
       "  <tbody>\n",
       "    <tr>\n",
       "      <th>0</th>\n",
       "      <td>59</td>\n",
       "      <td>admin.</td>\n",
       "      <td>married</td>\n",
       "      <td>secondary</td>\n",
       "      <td>no</td>\n",
       "      <td>2343</td>\n",
       "      <td>yes</td>\n",
       "      <td>no</td>\n",
       "      <td>unknown</td>\n",
       "      <td>5</td>\n",
       "      <td>may</td>\n",
       "      <td>1042</td>\n",
       "      <td>1</td>\n",
       "      <td>-1</td>\n",
       "      <td>0</td>\n",
       "      <td>unknown</td>\n",
       "      <td>yes</td>\n",
       "    </tr>\n",
       "    <tr>\n",
       "      <th>1</th>\n",
       "      <td>56</td>\n",
       "      <td>admin.</td>\n",
       "      <td>married</td>\n",
       "      <td>secondary</td>\n",
       "      <td>no</td>\n",
       "      <td>45</td>\n",
       "      <td>no</td>\n",
       "      <td>no</td>\n",
       "      <td>unknown</td>\n",
       "      <td>5</td>\n",
       "      <td>may</td>\n",
       "      <td>1467</td>\n",
       "      <td>1</td>\n",
       "      <td>-1</td>\n",
       "      <td>0</td>\n",
       "      <td>unknown</td>\n",
       "      <td>yes</td>\n",
       "    </tr>\n",
       "    <tr>\n",
       "      <th>2</th>\n",
       "      <td>41</td>\n",
       "      <td>technician</td>\n",
       "      <td>married</td>\n",
       "      <td>secondary</td>\n",
       "      <td>no</td>\n",
       "      <td>1270</td>\n",
       "      <td>yes</td>\n",
       "      <td>no</td>\n",
       "      <td>unknown</td>\n",
       "      <td>5</td>\n",
       "      <td>may</td>\n",
       "      <td>1389</td>\n",
       "      <td>1</td>\n",
       "      <td>-1</td>\n",
       "      <td>0</td>\n",
       "      <td>unknown</td>\n",
       "      <td>yes</td>\n",
       "    </tr>\n",
       "    <tr>\n",
       "      <th>3</th>\n",
       "      <td>55</td>\n",
       "      <td>services</td>\n",
       "      <td>married</td>\n",
       "      <td>secondary</td>\n",
       "      <td>no</td>\n",
       "      <td>2476</td>\n",
       "      <td>yes</td>\n",
       "      <td>no</td>\n",
       "      <td>unknown</td>\n",
       "      <td>5</td>\n",
       "      <td>may</td>\n",
       "      <td>579</td>\n",
       "      <td>1</td>\n",
       "      <td>-1</td>\n",
       "      <td>0</td>\n",
       "      <td>unknown</td>\n",
       "      <td>yes</td>\n",
       "    </tr>\n",
       "    <tr>\n",
       "      <th>4</th>\n",
       "      <td>54</td>\n",
       "      <td>admin.</td>\n",
       "      <td>married</td>\n",
       "      <td>tertiary</td>\n",
       "      <td>no</td>\n",
       "      <td>184</td>\n",
       "      <td>no</td>\n",
       "      <td>no</td>\n",
       "      <td>unknown</td>\n",
       "      <td>5</td>\n",
       "      <td>may</td>\n",
       "      <td>673</td>\n",
       "      <td>2</td>\n",
       "      <td>-1</td>\n",
       "      <td>0</td>\n",
       "      <td>unknown</td>\n",
       "      <td>yes</td>\n",
       "    </tr>\n",
       "  </tbody>\n",
       "</table>\n",
       "</div>"
      ],
      "text/plain": [
       "   age         job  marital  education default  balance housing loan  contact  \\\n",
       "0   59      admin.  married  secondary      no     2343     yes   no  unknown   \n",
       "1   56      admin.  married  secondary      no       45      no   no  unknown   \n",
       "2   41  technician  married  secondary      no     1270     yes   no  unknown   \n",
       "3   55    services  married  secondary      no     2476     yes   no  unknown   \n",
       "4   54      admin.  married   tertiary      no      184      no   no  unknown   \n",
       "\n",
       "   day month  duration  campaign  pdays  previous poutcome deposit  \n",
       "0    5   may      1042         1     -1         0  unknown     yes  \n",
       "1    5   may      1467         1     -1         0  unknown     yes  \n",
       "2    5   may      1389         1     -1         0  unknown     yes  \n",
       "3    5   may       579         1     -1         0  unknown     yes  \n",
       "4    5   may       673         2     -1         0  unknown     yes  "
      ]
     },
     "execution_count": 595,
     "metadata": {},
     "output_type": "execute_result"
    }
   ],
   "source": [
    "os.chdir('C:\\\\Users\\\\carmi\\\\OneDrive\\\\Documentos\\\\Máster en Business Analytics y Big Data\\\\10. TFM')\n",
    "df = pd.read_csv('bank.csv', sep=',')\n",
    "\n",
    "df.head()"
   ]
  },
  {
   "cell_type": "code",
   "execution_count": 596,
   "metadata": {},
   "outputs": [
    {
     "data": {
      "text/plain": [
       "(11162, 17)"
      ]
     },
     "execution_count": 596,
     "metadata": {},
     "output_type": "execute_result"
    }
   ],
   "source": [
    "df.shape"
   ]
  },
  {
   "cell_type": "code",
   "execution_count": 597,
   "metadata": {},
   "outputs": [
    {
     "name": "stdout",
     "output_type": "stream",
     "text": [
      "<class 'pandas.core.frame.DataFrame'>\n",
      "RangeIndex: 11162 entries, 0 to 11161\n",
      "Data columns (total 17 columns):\n",
      " #   Column     Non-Null Count  Dtype \n",
      "---  ------     --------------  ----- \n",
      " 0   age        11162 non-null  int64 \n",
      " 1   job        11162 non-null  object\n",
      " 2   marital    11162 non-null  object\n",
      " 3   education  11162 non-null  object\n",
      " 4   default    11162 non-null  object\n",
      " 5   balance    11162 non-null  int64 \n",
      " 6   housing    11162 non-null  object\n",
      " 7   loan       11162 non-null  object\n",
      " 8   contact    11162 non-null  object\n",
      " 9   day        11162 non-null  int64 \n",
      " 10  month      11162 non-null  object\n",
      " 11  duration   11162 non-null  int64 \n",
      " 12  campaign   11162 non-null  int64 \n",
      " 13  pdays      11162 non-null  int64 \n",
      " 14  previous   11162 non-null  int64 \n",
      " 15  poutcome   11162 non-null  object\n",
      " 16  deposit    11162 non-null  object\n",
      "dtypes: int64(7), object(10)\n",
      "memory usage: 1.4+ MB\n"
     ]
    }
   ],
   "source": [
    "df.info()"
   ]
  },
  {
   "cell_type": "code",
   "execution_count": 598,
   "metadata": {},
   "outputs": [],
   "source": [
    "df['day'] = df['day'].astype(object)"
   ]
  },
  {
   "cell_type": "code",
   "execution_count": 599,
   "metadata": {},
   "outputs": [
    {
     "name": "stdout",
     "output_type": "stream",
     "text": [
      "<class 'pandas.core.frame.DataFrame'>\n",
      "RangeIndex: 11162 entries, 0 to 11161\n",
      "Data columns (total 17 columns):\n",
      " #   Column     Non-Null Count  Dtype \n",
      "---  ------     --------------  ----- \n",
      " 0   age        11162 non-null  int64 \n",
      " 1   job        11162 non-null  object\n",
      " 2   marital    11162 non-null  object\n",
      " 3   education  11162 non-null  object\n",
      " 4   default    11162 non-null  object\n",
      " 5   balance    11162 non-null  int64 \n",
      " 6   housing    11162 non-null  object\n",
      " 7   loan       11162 non-null  object\n",
      " 8   contact    11162 non-null  object\n",
      " 9   day        11162 non-null  object\n",
      " 10  month      11162 non-null  object\n",
      " 11  duration   11162 non-null  int64 \n",
      " 12  campaign   11162 non-null  int64 \n",
      " 13  pdays      11162 non-null  int64 \n",
      " 14  previous   11162 non-null  int64 \n",
      " 15  poutcome   11162 non-null  object\n",
      " 16  deposit    11162 non-null  object\n",
      "dtypes: int64(6), object(11)\n",
      "memory usage: 1.4+ MB\n"
     ]
    }
   ],
   "source": [
    "df.info()"
   ]
  },
  {
   "cell_type": "code",
   "execution_count": 600,
   "metadata": {},
   "outputs": [
    {
     "name": "stdout",
     "output_type": "stream",
     "text": [
      "job --> ['admin.' 'technician' 'services' 'management' 'retired' 'blue-collar'\n",
      " 'unemployed' 'entrepreneur' 'housemaid' 'unknown' 'self-employed'\n",
      " 'student']\n",
      "marital --> ['married' 'single' 'divorced']\n",
      "education --> ['secondary' 'tertiary' 'primary' 'unknown']\n",
      "default --> ['no' 'yes']\n",
      "housing --> ['yes' 'no']\n",
      "loan --> ['no' 'yes']\n",
      "contact --> ['unknown' 'cellular' 'telephone']\n",
      "day --> [5 6 7 8 9 12 13 14 15 16 19 20 21 23 26 27 28 29 30 2 3 4 11 17 18 24 1\n",
      " 10 22 25 31]\n",
      "month --> ['may' 'jun' 'jul' 'aug' 'oct' 'nov' 'dec' 'jan' 'feb' 'mar' 'apr' 'sep']\n",
      "poutcome --> ['unknown' 'other' 'failure' 'success']\n",
      "deposit --> ['yes' 'no']\n"
     ]
    }
   ],
   "source": [
    "for col in df.select_dtypes(include='object').columns:\n",
    "    print(col,'-->',df[col].unique())"
   ]
  },
  {
   "cell_type": "code",
   "execution_count": 601,
   "metadata": {},
   "outputs": [
    {
     "name": "stdout",
     "output_type": "stream",
     "text": [
      "management       2566\n",
      "blue-collar      1944\n",
      "technician       1823\n",
      "admin.           1334\n",
      "services          923\n",
      "retired           778\n",
      "self-employed     405\n",
      "student           360\n",
      "unemployed        357\n",
      "entrepreneur      328\n",
      "housemaid         274\n",
      "unknown            70\n",
      "Name: job, dtype: int64\n",
      "secondary    5476\n",
      "tertiary     3689\n",
      "primary      1500\n",
      "unknown       497\n",
      "Name: education, dtype: int64\n",
      "cellular     8042\n",
      "unknown      2346\n",
      "telephone     774\n",
      "Name: contact, dtype: int64\n",
      "unknown    8326\n",
      "failure    1228\n",
      "success    1071\n",
      "other       537\n",
      "Name: poutcome, dtype: int64\n"
     ]
    }
   ],
   "source": [
    "print(df['job'].value_counts())\n",
    "print(df['education'].value_counts())\n",
    "print(df['contact'].value_counts())\n",
    "print(df['poutcome'].value_counts())"
   ]
  },
  {
   "cell_type": "code",
   "execution_count": 602,
   "metadata": {},
   "outputs": [],
   "source": [
    "df['contact'] = df['contact'].map({'unknown': 'cellular','cellular':'cellular','telephone':'telephone'})\n",
    "df['poutcome'] = df['poutcome'].map({'unknown': 'new','other':'other','failure':'failure','success':'success'})"
   ]
  },
  {
   "cell_type": "code",
   "execution_count": 603,
   "metadata": {},
   "outputs": [
    {
     "name": "stdout",
     "output_type": "stream",
     "text": [
      "cellular     10388\n",
      "telephone      774\n",
      "Name: contact, dtype: int64\n",
      "new        8326\n",
      "failure    1228\n",
      "success    1071\n",
      "other       537\n",
      "Name: poutcome, dtype: int64\n"
     ]
    }
   ],
   "source": [
    "print(df['contact'].value_counts())\n",
    "print(df['poutcome'].value_counts())"
   ]
  },
  {
   "cell_type": "code",
   "execution_count": 604,
   "metadata": {},
   "outputs": [
    {
     "data": {
      "text/html": [
       "<div>\n",
       "<style scoped>\n",
       "    .dataframe tbody tr th:only-of-type {\n",
       "        vertical-align: middle;\n",
       "    }\n",
       "\n",
       "    .dataframe tbody tr th {\n",
       "        vertical-align: top;\n",
       "    }\n",
       "\n",
       "    .dataframe thead th {\n",
       "        text-align: right;\n",
       "    }\n",
       "</style>\n",
       "<table border=\"1\" class=\"dataframe\">\n",
       "  <thead>\n",
       "    <tr style=\"text-align: right;\">\n",
       "      <th></th>\n",
       "      <th>age</th>\n",
       "      <th>balance</th>\n",
       "      <th>duration</th>\n",
       "      <th>campaign</th>\n",
       "      <th>pdays</th>\n",
       "      <th>previous</th>\n",
       "    </tr>\n",
       "  </thead>\n",
       "  <tbody>\n",
       "    <tr>\n",
       "      <th>count</th>\n",
       "      <td>11162.000000</td>\n",
       "      <td>11162.000000</td>\n",
       "      <td>11162.000000</td>\n",
       "      <td>11162.000000</td>\n",
       "      <td>11162.000000</td>\n",
       "      <td>11162.000000</td>\n",
       "    </tr>\n",
       "    <tr>\n",
       "      <th>mean</th>\n",
       "      <td>41.231948</td>\n",
       "      <td>1528.538524</td>\n",
       "      <td>371.993818</td>\n",
       "      <td>2.508421</td>\n",
       "      <td>51.330407</td>\n",
       "      <td>0.832557</td>\n",
       "    </tr>\n",
       "    <tr>\n",
       "      <th>std</th>\n",
       "      <td>11.913369</td>\n",
       "      <td>3225.413326</td>\n",
       "      <td>347.128386</td>\n",
       "      <td>2.722077</td>\n",
       "      <td>108.758282</td>\n",
       "      <td>2.292007</td>\n",
       "    </tr>\n",
       "    <tr>\n",
       "      <th>min</th>\n",
       "      <td>18.000000</td>\n",
       "      <td>-6847.000000</td>\n",
       "      <td>2.000000</td>\n",
       "      <td>1.000000</td>\n",
       "      <td>-1.000000</td>\n",
       "      <td>0.000000</td>\n",
       "    </tr>\n",
       "    <tr>\n",
       "      <th>25%</th>\n",
       "      <td>32.000000</td>\n",
       "      <td>122.000000</td>\n",
       "      <td>138.000000</td>\n",
       "      <td>1.000000</td>\n",
       "      <td>-1.000000</td>\n",
       "      <td>0.000000</td>\n",
       "    </tr>\n",
       "    <tr>\n",
       "      <th>50%</th>\n",
       "      <td>39.000000</td>\n",
       "      <td>550.000000</td>\n",
       "      <td>255.000000</td>\n",
       "      <td>2.000000</td>\n",
       "      <td>-1.000000</td>\n",
       "      <td>0.000000</td>\n",
       "    </tr>\n",
       "    <tr>\n",
       "      <th>75%</th>\n",
       "      <td>49.000000</td>\n",
       "      <td>1708.000000</td>\n",
       "      <td>496.000000</td>\n",
       "      <td>3.000000</td>\n",
       "      <td>20.750000</td>\n",
       "      <td>1.000000</td>\n",
       "    </tr>\n",
       "    <tr>\n",
       "      <th>max</th>\n",
       "      <td>95.000000</td>\n",
       "      <td>81204.000000</td>\n",
       "      <td>3881.000000</td>\n",
       "      <td>63.000000</td>\n",
       "      <td>854.000000</td>\n",
       "      <td>58.000000</td>\n",
       "    </tr>\n",
       "  </tbody>\n",
       "</table>\n",
       "</div>"
      ],
      "text/plain": [
       "                age       balance      duration      campaign         pdays  \\\n",
       "count  11162.000000  11162.000000  11162.000000  11162.000000  11162.000000   \n",
       "mean      41.231948   1528.538524    371.993818      2.508421     51.330407   \n",
       "std       11.913369   3225.413326    347.128386      2.722077    108.758282   \n",
       "min       18.000000  -6847.000000      2.000000      1.000000     -1.000000   \n",
       "25%       32.000000    122.000000    138.000000      1.000000     -1.000000   \n",
       "50%       39.000000    550.000000    255.000000      2.000000     -1.000000   \n",
       "75%       49.000000   1708.000000    496.000000      3.000000     20.750000   \n",
       "max       95.000000  81204.000000   3881.000000     63.000000    854.000000   \n",
       "\n",
       "           previous  \n",
       "count  11162.000000  \n",
       "mean       0.832557  \n",
       "std        2.292007  \n",
       "min        0.000000  \n",
       "25%        0.000000  \n",
       "50%        0.000000  \n",
       "75%        1.000000  \n",
       "max       58.000000  "
      ]
     },
     "execution_count": 604,
     "metadata": {},
     "output_type": "execute_result"
    }
   ],
   "source": [
    "df.describe()"
   ]
  },
  {
   "cell_type": "code",
   "execution_count": 605,
   "metadata": {},
   "outputs": [
    {
     "data": {
      "text/plain": [
       "age          0\n",
       "job          0\n",
       "marital      0\n",
       "education    0\n",
       "default      0\n",
       "balance      0\n",
       "housing      0\n",
       "loan         0\n",
       "contact      0\n",
       "day          0\n",
       "month        0\n",
       "duration     0\n",
       "campaign     0\n",
       "pdays        0\n",
       "previous     0\n",
       "poutcome     0\n",
       "deposit      0\n",
       "dtype: int64"
      ]
     },
     "execution_count": 605,
     "metadata": {},
     "output_type": "execute_result"
    }
   ],
   "source": [
    "df.isnull().sum()"
   ]
  },
  {
   "cell_type": "code",
   "execution_count": 606,
   "metadata": {},
   "outputs": [
    {
     "data": {
      "text/plain": [
       "(11162, 17)"
      ]
     },
     "execution_count": 606,
     "metadata": {},
     "output_type": "execute_result"
    }
   ],
   "source": [
    "df.shape"
   ]
  },
  {
   "cell_type": "code",
   "execution_count": 607,
   "metadata": {},
   "outputs": [
    {
     "data": {
      "text/plain": [
       "(11162, 6)"
      ]
     },
     "execution_count": 607,
     "metadata": {},
     "output_type": "execute_result"
    }
   ],
   "source": [
    "df_num = df.select_dtypes(include='number')\n",
    "\n",
    "vt = VarianceThreshold(threshold=1)\n",
    "_ = vt.fit(df_num)\n",
    "mask = vt.get_support()\n",
    "df_reducido = df_num.loc[:, mask]\n",
    "df_reducido.shape"
   ]
  },
  {
   "cell_type": "code",
   "execution_count": 608,
   "metadata": {},
   "outputs": [
    {
     "name": "stdout",
     "output_type": "stream",
     "text": [
      "The correlation DataFrame is:\n",
      "               age   balance  duration  campaign     pdays  previous\n",
      "age       1.000000  0.112300  0.000189 -0.005278  0.002774  0.020169\n",
      "balance   0.112300  1.000000  0.022436 -0.013894  0.017411  0.030805\n",
      "duration  0.000189  0.022436  1.000000 -0.041557 -0.027392 -0.026716\n",
      "campaign -0.005278 -0.013894 -0.041557  1.000000 -0.102726 -0.049699\n",
      "pdays     0.002774  0.017411 -0.027392 -0.102726  1.000000  0.507272\n",
      "previous  0.020169  0.030805 -0.026716 -0.049699  0.507272  1.000000 \n",
      "\n"
     ]
    },
    {
     "data": {
      "image/png": "[encoded data removed]",
      "text/plain": [
       "<Figure size 576x432 with 2 Axes>"
      ]
     },
     "metadata": {
      "needs_background": "light"
     },
     "output_type": "display_data"
    }
   ],
   "source": [
    "corr_df = df.corr(method='pearson')\n",
    "print(\"The correlation DataFrame is:\")\n",
    "print(corr_df, \"\\n\")\n",
    "\n",
    "plt.figure(figsize=(8, 6))\n",
    "sns.heatmap(corr_df, annot=True)\n",
    "plt.show()"
   ]
  },
  {
   "cell_type": "code",
   "execution_count": 609,
   "metadata": {},
   "outputs": [
    {
     "data": {
      "image/png": "[encoded data removed]",
      "text/plain": [
       "<Figure size 432x288 with 1 Axes>"
      ]
     },
     "metadata": {
      "needs_background": "light"
     },
     "output_type": "display_data"
    }
   ],
   "source": [
    "plt.figure()\n",
    "ax = sns.countplot(x = 'deposit', data = df)\n",
    "plt.show()"
   ]
  },
  {
   "cell_type": "markdown",
   "metadata": {},
   "source": [
    "# 2. Exploración visual de datos"
   ]
  },
  {
   "cell_type": "code",
   "execution_count": 610,
   "metadata": {},
   "outputs": [
    {
     "data": {
      "text/plain": [
       "'deposit'"
      ]
     },
     "execution_count": 610,
     "metadata": {},
     "output_type": "execute_result"
    }
   ],
   "source": [
    "categorias=[variable for variable in df.columns if (df[variable].dtypes=='object')]\n",
    "categorias.pop(-1)"
   ]
  },
  {
   "cell_type": "code",
   "execution_count": 611,
   "metadata": {},
   "outputs": [
    {
     "data": {
      "image/png": "[encoded data removed]",
      "text/plain": [
       "<Figure size 1440x2160 with 10 Axes>"
      ]
     },
     "metadata": {
      "needs_background": "light"
     },
     "output_type": "display_data"
    }
   ],
   "source": [
    "plt.figure(figsize=(20,30))\n",
    "plotnumber=1\n",
    "for categoria in categorias:\n",
    "    ax = plt.subplot(4,3,plotnumber)\n",
    "    sns.countplot(x=categoria,data=df,hue = 'deposit')\n",
    "    plt.xlabel(categoria)\n",
    "    plt.xticks(rotation = 90)\n",
    "    plotnumber+=1"
   ]
  },
  {
   "cell_type": "code",
   "execution_count": 612,
   "metadata": {},
   "outputs": [
    {
     "data": {
      "image/png": "[encoded data removed]",
      "text/plain": [
       "<Figure size 1440x720 with 6 Axes>"
      ]
     },
     "metadata": {
      "needs_background": "light"
     },
     "output_type": "display_data"
    }
   ],
   "source": [
    "numericas=[variable for variable in df.columns if (df[variable].dtypes=='int64')]\n",
    "plt.figure(figsize=(20,10))\n",
    "plotnumber=1\n",
    "for variable in numericas:\n",
    "    ax = plt.subplot(3,3,plotnumber)\n",
    "    sns.distplot(df[variable])\n",
    "    plt.xlabel(variable)\n",
    "    plotnumber+=1\n",
    "plt.show()"
   ]
  },
  {
   "cell_type": "code",
   "execution_count": 613,
   "metadata": {},
   "outputs": [
    {
     "data": {
      "image/png": "[encoded data removed]",
      "text/plain": [
       "<Figure size 1440x720 with 6 Axes>"
      ]
     },
     "metadata": {
      "needs_background": "light"
     },
     "output_type": "display_data"
    }
   ],
   "source": [
    "plt.figure(figsize=(20,10))\n",
    "plotnumber =1\n",
    "for variable in numericas:\n",
    "    ax = plt.subplot(2,3,plotnumber)\n",
    "    sns.boxplot(x=\"deposit\", y= df[variable], data=df)\n",
    "    plt.xlabel(variable)\n",
    "    plotnumber+=1\n",
    "plt.show()"
   ]
  },
  {
   "cell_type": "code",
   "execution_count": 614,
   "metadata": {},
   "outputs": [
    {
     "name": "stdout",
     "output_type": "stream",
     "text": [
      "age\n",
      "(11030, 17)\n",
      "balance\n",
      "(10918, 17)\n",
      "duration\n",
      "(10808, 17)\n",
      "campaign\n",
      "(10671, 17)\n",
      "pdays\n",
      "(10564, 17)\n",
      "previous\n",
      "(10449, 17)\n"
     ]
    }
   ],
   "source": [
    "for i in numericas:\n",
    "    print (i)\n",
    "    Q99=df[i].quantile(0.99)\n",
    "    df=df[(df[i]< Q99)]\n",
    "    print(df.shape)"
   ]
  },
  {
   "cell_type": "code",
   "execution_count": 615,
   "metadata": {},
   "outputs": [],
   "source": [
    "df.reset_index(drop=True, inplace=True)"
   ]
  },
  {
   "cell_type": "markdown",
   "metadata": {},
   "source": [
    "# 3. Procesado y transformación de datos"
   ]
  },
  {
   "cell_type": "markdown",
   "metadata": {},
   "source": [
    "Creación de variables dummies y normalización"
   ]
  },
  {
   "cell_type": "code",
   "execution_count": 496,
   "metadata": {},
   "outputs": [],
   "source": [
    "df_num=df.select_dtypes(include='int64')\n",
    "ss=StandardScaler()\n",
    "num_scal=ss.fit_transform(df_num)\n",
    "df_scal = pd.DataFrame(num_scal, columns = df_num.columns)"
   ]
  },
  {
   "cell_type": "code",
   "execution_count": 497,
   "metadata": {},
   "outputs": [
    {
     "data": {
      "text/html": [
       "<div>\n",
       "<style scoped>\n",
       "    .dataframe tbody tr th:only-of-type {\n",
       "        vertical-align: middle;\n",
       "    }\n",
       "\n",
       "    .dataframe tbody tr th {\n",
       "        vertical-align: top;\n",
       "    }\n",
       "\n",
       "    .dataframe thead th {\n",
       "        text-align: right;\n",
       "    }\n",
       "</style>\n",
       "<table border=\"1\" class=\"dataframe\">\n",
       "  <thead>\n",
       "    <tr style=\"text-align: right;\">\n",
       "      <th></th>\n",
       "      <th>age</th>\n",
       "      <th>balance</th>\n",
       "      <th>duration</th>\n",
       "      <th>campaign</th>\n",
       "      <th>pdays</th>\n",
       "      <th>previous</th>\n",
       "    </tr>\n",
       "  </thead>\n",
       "  <tbody>\n",
       "    <tr>\n",
       "      <th>0</th>\n",
       "      <td>1.631175</td>\n",
       "      <td>0.526637</td>\n",
       "      <td>2.228759</td>\n",
       "      <td>-0.709310</td>\n",
       "      <td>-0.483851</td>\n",
       "      <td>-0.439523</td>\n",
       "    </tr>\n",
       "    <tr>\n",
       "      <th>1</th>\n",
       "      <td>1.362885</td>\n",
       "      <td>-0.624965</td>\n",
       "      <td>3.613717</td>\n",
       "      <td>-0.709310</td>\n",
       "      <td>-0.483851</td>\n",
       "      <td>-0.439523</td>\n",
       "    </tr>\n",
       "    <tr>\n",
       "      <th>2</th>\n",
       "      <td>0.021440</td>\n",
       "      <td>-0.011078</td>\n",
       "      <td>3.359536</td>\n",
       "      <td>-0.709310</td>\n",
       "      <td>-0.483851</td>\n",
       "      <td>-0.439523</td>\n",
       "    </tr>\n",
       "    <tr>\n",
       "      <th>3</th>\n",
       "      <td>1.273456</td>\n",
       "      <td>0.593288</td>\n",
       "      <td>0.719970</td>\n",
       "      <td>-0.709310</td>\n",
       "      <td>-0.483851</td>\n",
       "      <td>-0.439523</td>\n",
       "    </tr>\n",
       "    <tr>\n",
       "      <th>4</th>\n",
       "      <td>1.184026</td>\n",
       "      <td>-0.555307</td>\n",
       "      <td>1.026290</td>\n",
       "      <td>-0.165461</td>\n",
       "      <td>-0.483851</td>\n",
       "      <td>-0.439523</td>\n",
       "    </tr>\n",
       "  </tbody>\n",
       "</table>\n",
       "</div>"
      ],
      "text/plain": [
       "        age   balance  duration  campaign     pdays  previous\n",
       "0  1.631175  0.526637  2.228759 -0.709310 -0.483851 -0.439523\n",
       "1  1.362885 -0.624965  3.613717 -0.709310 -0.483851 -0.439523\n",
       "2  0.021440 -0.011078  3.359536 -0.709310 -0.483851 -0.439523\n",
       "3  1.273456  0.593288  0.719970 -0.709310 -0.483851 -0.439523\n",
       "4  1.184026 -0.555307  1.026290 -0.165461 -0.483851 -0.439523"
      ]
     },
     "execution_count": 497,
     "metadata": {},
     "output_type": "execute_result"
    }
   ],
   "source": [
    "df_scal.head()"
   ]
  },
  {
   "cell_type": "code",
   "execution_count": 498,
   "metadata": {},
   "outputs": [
    {
     "data": {
      "text/plain": [
       "(10449, 6)"
      ]
     },
     "execution_count": 498,
     "metadata": {},
     "output_type": "execute_result"
    }
   ],
   "source": [
    "df_scal.shape"
   ]
  },
  {
   "cell_type": "code",
   "execution_count": 499,
   "metadata": {},
   "outputs": [],
   "source": [
    "df_cat=df.select_dtypes(include='object')\n",
    "df_cat=df_cat.drop('deposit',axis=1)\n",
    "df_cat=pd.get_dummies(df_cat,columns=df_cat.columns)"
   ]
  },
  {
   "cell_type": "code",
   "execution_count": 500,
   "metadata": {},
   "outputs": [
    {
     "data": {
      "text/html": [
       "<div>\n",
       "<style scoped>\n",
       "    .dataframe tbody tr th:only-of-type {\n",
       "        vertical-align: middle;\n",
       "    }\n",
       "\n",
       "    .dataframe tbody tr th {\n",
       "        vertical-align: top;\n",
       "    }\n",
       "\n",
       "    .dataframe thead th {\n",
       "        text-align: right;\n",
       "    }\n",
       "</style>\n",
       "<table border=\"1\" class=\"dataframe\">\n",
       "  <thead>\n",
       "    <tr style=\"text-align: right;\">\n",
       "      <th></th>\n",
       "      <th>job_admin.</th>\n",
       "      <th>job_blue-collar</th>\n",
       "      <th>job_entrepreneur</th>\n",
       "      <th>job_housemaid</th>\n",
       "      <th>job_management</th>\n",
       "      <th>job_retired</th>\n",
       "      <th>job_self-employed</th>\n",
       "      <th>job_services</th>\n",
       "      <th>job_student</th>\n",
       "      <th>job_technician</th>\n",
       "      <th>...</th>\n",
       "      <th>month_jun</th>\n",
       "      <th>month_mar</th>\n",
       "      <th>month_may</th>\n",
       "      <th>month_nov</th>\n",
       "      <th>month_oct</th>\n",
       "      <th>month_sep</th>\n",
       "      <th>poutcome_failure</th>\n",
       "      <th>poutcome_new</th>\n",
       "      <th>poutcome_other</th>\n",
       "      <th>poutcome_success</th>\n",
       "    </tr>\n",
       "  </thead>\n",
       "  <tbody>\n",
       "    <tr>\n",
       "      <th>0</th>\n",
       "      <td>1</td>\n",
       "      <td>0</td>\n",
       "      <td>0</td>\n",
       "      <td>0</td>\n",
       "      <td>0</td>\n",
       "      <td>0</td>\n",
       "      <td>0</td>\n",
       "      <td>0</td>\n",
       "      <td>0</td>\n",
       "      <td>0</td>\n",
       "      <td>...</td>\n",
       "      <td>0</td>\n",
       "      <td>0</td>\n",
       "      <td>1</td>\n",
       "      <td>0</td>\n",
       "      <td>0</td>\n",
       "      <td>0</td>\n",
       "      <td>0</td>\n",
       "      <td>1</td>\n",
       "      <td>0</td>\n",
       "      <td>0</td>\n",
       "    </tr>\n",
       "    <tr>\n",
       "      <th>1</th>\n",
       "      <td>1</td>\n",
       "      <td>0</td>\n",
       "      <td>0</td>\n",
       "      <td>0</td>\n",
       "      <td>0</td>\n",
       "      <td>0</td>\n",
       "      <td>0</td>\n",
       "      <td>0</td>\n",
       "      <td>0</td>\n",
       "      <td>0</td>\n",
       "      <td>...</td>\n",
       "      <td>0</td>\n",
       "      <td>0</td>\n",
       "      <td>1</td>\n",
       "      <td>0</td>\n",
       "      <td>0</td>\n",
       "      <td>0</td>\n",
       "      <td>0</td>\n",
       "      <td>1</td>\n",
       "      <td>0</td>\n",
       "      <td>0</td>\n",
       "    </tr>\n",
       "    <tr>\n",
       "      <th>2</th>\n",
       "      <td>0</td>\n",
       "      <td>0</td>\n",
       "      <td>0</td>\n",
       "      <td>0</td>\n",
       "      <td>0</td>\n",
       "      <td>0</td>\n",
       "      <td>0</td>\n",
       "      <td>0</td>\n",
       "      <td>0</td>\n",
       "      <td>1</td>\n",
       "      <td>...</td>\n",
       "      <td>0</td>\n",
       "      <td>0</td>\n",
       "      <td>1</td>\n",
       "      <td>0</td>\n",
       "      <td>0</td>\n",
       "      <td>0</td>\n",
       "      <td>0</td>\n",
       "      <td>1</td>\n",
       "      <td>0</td>\n",
       "      <td>0</td>\n",
       "    </tr>\n",
       "    <tr>\n",
       "      <th>3</th>\n",
       "      <td>0</td>\n",
       "      <td>0</td>\n",
       "      <td>0</td>\n",
       "      <td>0</td>\n",
       "      <td>0</td>\n",
       "      <td>0</td>\n",
       "      <td>0</td>\n",
       "      <td>1</td>\n",
       "      <td>0</td>\n",
       "      <td>0</td>\n",
       "      <td>...</td>\n",
       "      <td>0</td>\n",
       "      <td>0</td>\n",
       "      <td>1</td>\n",
       "      <td>0</td>\n",
       "      <td>0</td>\n",
       "      <td>0</td>\n",
       "      <td>0</td>\n",
       "      <td>1</td>\n",
       "      <td>0</td>\n",
       "      <td>0</td>\n",
       "    </tr>\n",
       "    <tr>\n",
       "      <th>4</th>\n",
       "      <td>1</td>\n",
       "      <td>0</td>\n",
       "      <td>0</td>\n",
       "      <td>0</td>\n",
       "      <td>0</td>\n",
       "      <td>0</td>\n",
       "      <td>0</td>\n",
       "      <td>0</td>\n",
       "      <td>0</td>\n",
       "      <td>0</td>\n",
       "      <td>...</td>\n",
       "      <td>0</td>\n",
       "      <td>0</td>\n",
       "      <td>1</td>\n",
       "      <td>0</td>\n",
       "      <td>0</td>\n",
       "      <td>0</td>\n",
       "      <td>0</td>\n",
       "      <td>1</td>\n",
       "      <td>0</td>\n",
       "      <td>0</td>\n",
       "    </tr>\n",
       "  </tbody>\n",
       "</table>\n",
       "<p>5 rows × 74 columns</p>\n",
       "</div>"
      ],
      "text/plain": [
       "   job_admin.  job_blue-collar  job_entrepreneur  job_housemaid  \\\n",
       "0           1                0                 0              0   \n",
       "1           1                0                 0              0   \n",
       "2           0                0                 0              0   \n",
       "3           0                0                 0              0   \n",
       "4           1                0                 0              0   \n",
       "\n",
       "   job_management  job_retired  job_self-employed  job_services  job_student  \\\n",
       "0               0            0                  0             0            0   \n",
       "1               0            0                  0             0            0   \n",
       "2               0            0                  0             0            0   \n",
       "3               0            0                  0             1            0   \n",
       "4               0            0                  0             0            0   \n",
       "\n",
       "   job_technician  ...  month_jun  month_mar  month_may  month_nov  month_oct  \\\n",
       "0               0  ...          0          0          1          0          0   \n",
       "1               0  ...          0          0          1          0          0   \n",
       "2               1  ...          0          0          1          0          0   \n",
       "3               0  ...          0          0          1          0          0   \n",
       "4               0  ...          0          0          1          0          0   \n",
       "\n",
       "   month_sep  poutcome_failure  poutcome_new  poutcome_other  poutcome_success  \n",
       "0          0                 0             1               0                 0  \n",
       "1          0                 0             1               0                 0  \n",
       "2          0                 0             1               0                 0  \n",
       "3          0                 0             1               0                 0  \n",
       "4          0                 0             1               0                 0  \n",
       "\n",
       "[5 rows x 74 columns]"
      ]
     },
     "execution_count": 500,
     "metadata": {},
     "output_type": "execute_result"
    }
   ],
   "source": [
    "df_cat.head()"
   ]
  },
  {
   "cell_type": "code",
   "execution_count": 501,
   "metadata": {},
   "outputs": [
    {
     "data": {
      "text/plain": [
       "(10449, 74)"
      ]
     },
     "execution_count": 501,
     "metadata": {},
     "output_type": "execute_result"
    }
   ],
   "source": [
    "df_cat.shape"
   ]
  },
  {
   "cell_type": "code",
   "execution_count": 502,
   "metadata": {},
   "outputs": [
    {
     "data": {
      "text/html": [
       "<div>\n",
       "<style scoped>\n",
       "    .dataframe tbody tr th:only-of-type {\n",
       "        vertical-align: middle;\n",
       "    }\n",
       "\n",
       "    .dataframe tbody tr th {\n",
       "        vertical-align: top;\n",
       "    }\n",
       "\n",
       "    .dataframe thead th {\n",
       "        text-align: right;\n",
       "    }\n",
       "</style>\n",
       "<table border=\"1\" class=\"dataframe\">\n",
       "  <thead>\n",
       "    <tr style=\"text-align: right;\">\n",
       "      <th></th>\n",
       "      <th>deposit</th>\n",
       "    </tr>\n",
       "  </thead>\n",
       "  <tbody>\n",
       "    <tr>\n",
       "      <th>0</th>\n",
       "      <td>1</td>\n",
       "    </tr>\n",
       "    <tr>\n",
       "      <th>1</th>\n",
       "      <td>1</td>\n",
       "    </tr>\n",
       "    <tr>\n",
       "      <th>2</th>\n",
       "      <td>1</td>\n",
       "    </tr>\n",
       "    <tr>\n",
       "      <th>3</th>\n",
       "      <td>1</td>\n",
       "    </tr>\n",
       "    <tr>\n",
       "      <th>4</th>\n",
       "      <td>1</td>\n",
       "    </tr>\n",
       "  </tbody>\n",
       "</table>\n",
       "</div>"
      ],
      "text/plain": [
       "   deposit\n",
       "0        1\n",
       "1        1\n",
       "2        1\n",
       "3        1\n",
       "4        1"
      ]
     },
     "execution_count": 502,
     "metadata": {},
     "output_type": "execute_result"
    }
   ],
   "source": [
    "df['deposit'] = df['deposit'].map({'yes': 1,'no': 0})\n",
    "df_deposit=df['deposit']\n",
    "df_deposit=df_deposit.to_frame(name='deposit')\n",
    "df_deposit.head()"
   ]
  },
  {
   "cell_type": "code",
   "execution_count": 503,
   "metadata": {},
   "outputs": [
    {
     "data": {
      "text/plain": [
       "(10449, 1)"
      ]
     },
     "execution_count": 503,
     "metadata": {},
     "output_type": "execute_result"
    }
   ],
   "source": [
    "df_deposit.shape"
   ]
  },
  {
   "cell_type": "code",
   "execution_count": 504,
   "metadata": {},
   "outputs": [
    {
     "data": {
      "text/html": [
       "<div>\n",
       "<style scoped>\n",
       "    .dataframe tbody tr th:only-of-type {\n",
       "        vertical-align: middle;\n",
       "    }\n",
       "\n",
       "    .dataframe tbody tr th {\n",
       "        vertical-align: top;\n",
       "    }\n",
       "\n",
       "    .dataframe thead th {\n",
       "        text-align: right;\n",
       "    }\n",
       "</style>\n",
       "<table border=\"1\" class=\"dataframe\">\n",
       "  <thead>\n",
       "    <tr style=\"text-align: right;\">\n",
       "      <th></th>\n",
       "      <th>age</th>\n",
       "      <th>balance</th>\n",
       "      <th>duration</th>\n",
       "      <th>campaign</th>\n",
       "      <th>pdays</th>\n",
       "      <th>previous</th>\n",
       "      <th>job_admin.</th>\n",
       "      <th>job_blue-collar</th>\n",
       "      <th>job_entrepreneur</th>\n",
       "      <th>job_housemaid</th>\n",
       "      <th>...</th>\n",
       "      <th>month_mar</th>\n",
       "      <th>month_may</th>\n",
       "      <th>month_nov</th>\n",
       "      <th>month_oct</th>\n",
       "      <th>month_sep</th>\n",
       "      <th>poutcome_failure</th>\n",
       "      <th>poutcome_new</th>\n",
       "      <th>poutcome_other</th>\n",
       "      <th>poutcome_success</th>\n",
       "      <th>deposit</th>\n",
       "    </tr>\n",
       "  </thead>\n",
       "  <tbody>\n",
       "    <tr>\n",
       "      <th>0</th>\n",
       "      <td>1.631175</td>\n",
       "      <td>0.526637</td>\n",
       "      <td>2.228759</td>\n",
       "      <td>-0.709310</td>\n",
       "      <td>-0.483851</td>\n",
       "      <td>-0.439523</td>\n",
       "      <td>1</td>\n",
       "      <td>0</td>\n",
       "      <td>0</td>\n",
       "      <td>0</td>\n",
       "      <td>...</td>\n",
       "      <td>0</td>\n",
       "      <td>1</td>\n",
       "      <td>0</td>\n",
       "      <td>0</td>\n",
       "      <td>0</td>\n",
       "      <td>0</td>\n",
       "      <td>1</td>\n",
       "      <td>0</td>\n",
       "      <td>0</td>\n",
       "      <td>1</td>\n",
       "    </tr>\n",
       "    <tr>\n",
       "      <th>1</th>\n",
       "      <td>1.362885</td>\n",
       "      <td>-0.624965</td>\n",
       "      <td>3.613717</td>\n",
       "      <td>-0.709310</td>\n",
       "      <td>-0.483851</td>\n",
       "      <td>-0.439523</td>\n",
       "      <td>1</td>\n",
       "      <td>0</td>\n",
       "      <td>0</td>\n",
       "      <td>0</td>\n",
       "      <td>...</td>\n",
       "      <td>0</td>\n",
       "      <td>1</td>\n",
       "      <td>0</td>\n",
       "      <td>0</td>\n",
       "      <td>0</td>\n",
       "      <td>0</td>\n",
       "      <td>1</td>\n",
       "      <td>0</td>\n",
       "      <td>0</td>\n",
       "      <td>1</td>\n",
       "    </tr>\n",
       "    <tr>\n",
       "      <th>2</th>\n",
       "      <td>0.021440</td>\n",
       "      <td>-0.011078</td>\n",
       "      <td>3.359536</td>\n",
       "      <td>-0.709310</td>\n",
       "      <td>-0.483851</td>\n",
       "      <td>-0.439523</td>\n",
       "      <td>0</td>\n",
       "      <td>0</td>\n",
       "      <td>0</td>\n",
       "      <td>0</td>\n",
       "      <td>...</td>\n",
       "      <td>0</td>\n",
       "      <td>1</td>\n",
       "      <td>0</td>\n",
       "      <td>0</td>\n",
       "      <td>0</td>\n",
       "      <td>0</td>\n",
       "      <td>1</td>\n",
       "      <td>0</td>\n",
       "      <td>0</td>\n",
       "      <td>1</td>\n",
       "    </tr>\n",
       "    <tr>\n",
       "      <th>3</th>\n",
       "      <td>1.273456</td>\n",
       "      <td>0.593288</td>\n",
       "      <td>0.719970</td>\n",
       "      <td>-0.709310</td>\n",
       "      <td>-0.483851</td>\n",
       "      <td>-0.439523</td>\n",
       "      <td>0</td>\n",
       "      <td>0</td>\n",
       "      <td>0</td>\n",
       "      <td>0</td>\n",
       "      <td>...</td>\n",
       "      <td>0</td>\n",
       "      <td>1</td>\n",
       "      <td>0</td>\n",
       "      <td>0</td>\n",
       "      <td>0</td>\n",
       "      <td>0</td>\n",
       "      <td>1</td>\n",
       "      <td>0</td>\n",
       "      <td>0</td>\n",
       "      <td>1</td>\n",
       "    </tr>\n",
       "    <tr>\n",
       "      <th>4</th>\n",
       "      <td>1.184026</td>\n",
       "      <td>-0.555307</td>\n",
       "      <td>1.026290</td>\n",
       "      <td>-0.165461</td>\n",
       "      <td>-0.483851</td>\n",
       "      <td>-0.439523</td>\n",
       "      <td>1</td>\n",
       "      <td>0</td>\n",
       "      <td>0</td>\n",
       "      <td>0</td>\n",
       "      <td>...</td>\n",
       "      <td>0</td>\n",
       "      <td>1</td>\n",
       "      <td>0</td>\n",
       "      <td>0</td>\n",
       "      <td>0</td>\n",
       "      <td>0</td>\n",
       "      <td>1</td>\n",
       "      <td>0</td>\n",
       "      <td>0</td>\n",
       "      <td>1</td>\n",
       "    </tr>\n",
       "  </tbody>\n",
       "</table>\n",
       "<p>5 rows × 81 columns</p>\n",
       "</div>"
      ],
      "text/plain": [
       "        age   balance  duration  campaign     pdays  previous  job_admin.  \\\n",
       "0  1.631175  0.526637  2.228759 -0.709310 -0.483851 -0.439523           1   \n",
       "1  1.362885 -0.624965  3.613717 -0.709310 -0.483851 -0.439523           1   \n",
       "2  0.021440 -0.011078  3.359536 -0.709310 -0.483851 -0.439523           0   \n",
       "3  1.273456  0.593288  0.719970 -0.709310 -0.483851 -0.439523           0   \n",
       "4  1.184026 -0.555307  1.026290 -0.165461 -0.483851 -0.439523           1   \n",
       "\n",
       "   job_blue-collar  job_entrepreneur  job_housemaid  ...  month_mar  \\\n",
       "0                0                 0              0  ...          0   \n",
       "1                0                 0              0  ...          0   \n",
       "2                0                 0              0  ...          0   \n",
       "3                0                 0              0  ...          0   \n",
       "4                0                 0              0  ...          0   \n",
       "\n",
       "   month_may  month_nov  month_oct  month_sep  poutcome_failure  poutcome_new  \\\n",
       "0          1          0          0          0                 0             1   \n",
       "1          1          0          0          0                 0             1   \n",
       "2          1          0          0          0                 0             1   \n",
       "3          1          0          0          0                 0             1   \n",
       "4          1          0          0          0                 0             1   \n",
       "\n",
       "   poutcome_other  poutcome_success  deposit  \n",
       "0               0                 0        1  \n",
       "1               0                 0        1  \n",
       "2               0                 0        1  \n",
       "3               0                 0        1  \n",
       "4               0                 0        1  \n",
       "\n",
       "[5 rows x 81 columns]"
      ]
     },
     "execution_count": 504,
     "metadata": {},
     "output_type": "execute_result"
    }
   ],
   "source": [
    "df=pd.concat([df_scal,df_cat,df_deposit],axis=1)\n",
    "df.head()"
   ]
  },
  {
   "cell_type": "code",
   "execution_count": 505,
   "metadata": {},
   "outputs": [
    {
     "data": {
      "text/plain": [
       "(10449, 81)"
      ]
     },
     "execution_count": 505,
     "metadata": {},
     "output_type": "execute_result"
    }
   ],
   "source": [
    "df.shape"
   ]
  },
  {
   "cell_type": "markdown",
   "metadata": {},
   "source": [
    "# 4. Construcción de modelos"
   ]
  },
  {
   "cell_type": "markdown",
   "metadata": {},
   "source": [
    "Separación en test/train"
   ]
  },
  {
   "cell_type": "code",
   "execution_count": 506,
   "metadata": {},
   "outputs": [],
   "source": [
    "y = df.deposit\n",
    "X = df.drop('deposit', axis = 1)"
   ]
  },
  {
   "cell_type": "code",
   "execution_count": 507,
   "metadata": {},
   "outputs": [],
   "source": [
    "x_train, x_test, y_train, y_test = train_test_split(X, y,random_state=30)"
   ]
  },
  {
   "cell_type": "markdown",
   "metadata": {},
   "source": [
    "## 4.1. Ranfom Forest"
   ]
  },
  {
   "cell_type": "markdown",
   "metadata": {},
   "source": [
    "Búsqueda de hiperparámetros"
   ]
  },
  {
   "cell_type": "code",
   "execution_count": 508,
   "metadata": {},
   "outputs": [
    {
     "data": {
      "text/plain": [
       "GridSearchCV(cv=5, estimator=RandomForestClassifier(random_state=1),\n",
       "             param_grid={'criterion': ['gini', 'entropy'],\n",
       "                         'max_depth': [None, 5, 10, 20],\n",
       "                         'max_features': [3, 5, 7, 9],\n",
       "                         'n_estimators': [5, 10, 100, 150]},\n",
       "             scoring='accuracy')"
      ]
     },
     "execution_count": 508,
     "metadata": {},
     "output_type": "execute_result"
    }
   ],
   "source": [
    "param_rf = {'n_estimators':[5, 10, 100, 150],\n",
    "            'max_features':[3, 5, 7, 9],\n",
    "            'max_depth':[None, 5, 10, 20],\n",
    "            'criterion':['gini', 'entropy']}\n",
    "\n",
    "model_forest = RandomForestClassifier(random_state=1)\n",
    "grid_forest = GridSearchCV(estimator = model_forest,\n",
    "                           param_grid = param_rf,\n",
    "                           cv = 5,\n",
    "                           scoring='accuracy')\n",
    "\n",
    "grid_forest.fit(x_train,y_train)"
   ]
  },
  {
   "cell_type": "code",
   "execution_count": 509,
   "metadata": {},
   "outputs": [
    {
     "data": {
      "text/plain": [
       "{'criterion': 'gini',\n",
       " 'max_depth': None,\n",
       " 'max_features': 7,\n",
       " 'n_estimators': 100}"
      ]
     },
     "execution_count": 509,
     "metadata": {},
     "output_type": "execute_result"
    }
   ],
   "source": [
    "grid_forest.best_params_"
   ]
  },
  {
   "cell_type": "code",
   "execution_count": 510,
   "metadata": {},
   "outputs": [
    {
     "data": {
      "text/plain": [
       "0.8360109822486749"
      ]
     },
     "execution_count": 510,
     "metadata": {},
     "output_type": "execute_result"
    }
   ],
   "source": [
    "grid_forest.best_score_"
   ]
  },
  {
   "cell_type": "markdown",
   "metadata": {},
   "source": [
    "Construcción del modelo"
   ]
  },
  {
   "cell_type": "code",
   "execution_count": 511,
   "metadata": {},
   "outputs": [
    {
     "data": {
      "text/plain": [
       "RandomForestClassifier(max_features=7, n_jobs=-1, random_state=1)"
      ]
     },
     "execution_count": 511,
     "metadata": {},
     "output_type": "execute_result"
    }
   ],
   "source": [
    "model_forest = RandomForestClassifier(n_jobs=-1, n_estimators = 100, criterion = 'gini', max_depth = None, max_features = 7, random_state = 1)\n",
    "model_forest.fit(x_train, y_train)"
   ]
  },
  {
   "cell_type": "markdown",
   "metadata": {},
   "source": [
    "### Resultados Random Forest"
   ]
  },
  {
   "cell_type": "code",
   "execution_count": 512,
   "metadata": {},
   "outputs": [],
   "source": [
    "y_train_pred_RF = model_forest.predict(x_train)\n",
    "y_test_pred_RF = model_forest.predict(x_test)"
   ]
  },
  {
   "cell_type": "markdown",
   "metadata": {},
   "source": [
    "Matriz de confusión"
   ]
  },
  {
   "cell_type": "code",
   "execution_count": 513,
   "metadata": {},
   "outputs": [],
   "source": [
    "confusion_matrix_train_RF = confusion_matrix(y_train, y_train_pred_RF)\n",
    "confusion_matrix_test_RF = confusion_matrix(y_test, y_test_pred_RF)"
   ]
  },
  {
   "cell_type": "code",
   "execution_count": 514,
   "metadata": {},
   "outputs": [
    {
     "data": {
      "image/png": "[encoded data removed]",
      "text/plain": [
       "<Figure size 432x288 with 2 Axes>"
      ]
     },
     "metadata": {
      "needs_background": "light"
     },
     "output_type": "display_data"
    }
   ],
   "source": [
    "f, ax = plt.subplots()\n",
    "sns.heatmap(confusion_matrix_train_RF, annot=True, fmt=\"d\")\n",
    "plt.title(\"Matriz de confusión RF\", fontsize=20)\n",
    "ax.set_xticklabels(['Positivos reales', 'Negativos reales'], fontsize=10)\n",
    "ax.set_yticklabels(['Predicciones positivas', 'Predicciones negativas'], fontsize=10, rotation=360)\n",
    "plt.show()"
   ]
  },
  {
   "cell_type": "code",
   "execution_count": 515,
   "metadata": {},
   "outputs": [
    {
     "name": "stdout",
     "output_type": "stream",
     "text": [
      "La matriz de confusión para entrenamiento normalizada es\n",
      "[[1. 0.]\n",
      " [0. 1.]]\n",
      "La matriz de confusión para test normalizada es\n",
      "[[0.88288288 0.18188915]\n",
      " [0.11711712 0.81811085]]\n"
     ]
    }
   ],
   "source": [
    "print('La matriz de confusión para entrenamiento normalizada es')\n",
    "print(confusion_matrix_train_RF / (sum(confusion_matrix_train_RF)))\n",
    "print('La matriz de confusión para test normalizada es')\n",
    "print(confusion_matrix_test_RF / (sum(confusion_matrix_test_RF)))"
   ]
  },
  {
   "cell_type": "markdown",
   "metadata": {},
   "source": [
    "Métricas train"
   ]
  },
  {
   "cell_type": "code",
   "execution_count": 516,
   "metadata": {},
   "outputs": [
    {
     "name": "stdout",
     "output_type": "stream",
     "text": [
      "Exactitud RF train: 1.0\n",
      "Precisión RF train: 1.0\n",
      "Exhaustividad RF train: 1.0\n"
     ]
    }
   ],
   "source": [
    "print('Exactitud RF train:',accuracy_score(y_train, y_train_pred_RF))\n",
    "print('Precisión RF train:',precision_score(y_train,y_train_pred_RF))\n",
    "print('Exhaustividad RF train:',recall_score(y_train,y_train_pred_RF))"
   ]
  },
  {
   "cell_type": "markdown",
   "metadata": {},
   "source": [
    "Métricas test"
   ]
  },
  {
   "cell_type": "code",
   "execution_count": 517,
   "metadata": {},
   "outputs": [
    {
     "name": "stdout",
     "output_type": "stream",
     "text": [
      "Exactitud RF test: 0.8511289705319556\n",
      "Precisión RF test: 0.8181108508977362\n",
      "Exhaustividad RF test: 0.8704318936877077\n"
     ]
    }
   ],
   "source": [
    "precision_RF = accuracy_score(y_test, y_test_pred_RF)\n",
    "exactitud_RF = precision_score(y_test,y_test_pred_RF)\n",
    "exhaustividad_RF = recall_score(y_test,y_test_pred_RF)\n",
    "print('Exactitud RF test:', precision_RF)\n",
    "print('Precisión RF test:', exactitud_RF)\n",
    "print('Exhaustividad RF test:', exhaustividad_RF)"
   ]
  },
  {
   "cell_type": "markdown",
   "metadata": {},
   "source": [
    "Curva ROC y AUC"
   ]
  },
  {
   "cell_type": "code",
   "execution_count": 518,
   "metadata": {},
   "outputs": [],
   "source": [
    "fpr_RF,tpr_RF,threshold =roc_curve(y_test,y_test_pred_RF)"
   ]
  },
  {
   "cell_type": "code",
   "execution_count": 519,
   "metadata": {},
   "outputs": [
    {
     "data": {
      "image/png": "[encoded data removed]",
      "text/plain": [
       "<Figure size 432x288 with 1 Axes>"
      ]
     },
     "metadata": {
      "needs_background": "light"
     },
     "output_type": "display_data"
    }
   ],
   "source": [
    "plt.figure()\n",
    "plt.plot(fpr_RF,tpr_RF)\n",
    "plt.plot([0, 1], [0, 1],'r--')\n",
    "plt.xlabel('False Positive Rate')\n",
    "plt.ylabel('True Positive Rate')\n",
    "plt.title('Curva ROC Random Forest')\n",
    "plt.show()"
   ]
  },
  {
   "cell_type": "code",
   "execution_count": 521,
   "metadata": {},
   "outputs": [
    {
     "name": "stdout",
     "output_type": "stream",
     "text": [
      "AUC_RF: 0.8525331931178071\n"
     ]
    }
   ],
   "source": [
    "auc_RF = roc_auc_score(y_test,y_test_pred_RF)\n",
    "print('AUC_RF:',auc_RF)"
   ]
  },
  {
   "cell_type": "markdown",
   "metadata": {},
   "source": [
    "## 4.2. SVM Classifier"
   ]
  },
  {
   "cell_type": "markdown",
   "metadata": {},
   "source": [
    "Búsqueda de hiperparámetros"
   ]
  },
  {
   "cell_type": "code",
   "execution_count": 576,
   "metadata": {},
   "outputs": [
    {
     "data": {
      "text/plain": [
       "GridSearchCV(cv=5, estimator=SVC(random_state=1),\n",
       "             param_grid={'C': [0.001, 0.01, 0.1, 1, 5, 10, 50, 100],\n",
       "                         'gamma': [1, 0.5, 0.1, 0.05, 0.01, 0.001, 0.0001],\n",
       "                         'kernel': ['linear', 'rbf']},\n",
       "             scoring='accuracy')"
      ]
     },
     "execution_count": 576,
     "metadata": {},
     "output_type": "execute_result"
    }
   ],
   "source": [
    "model_svm = SVC(random_state=1)\n",
    "\n",
    "param_svm = {'C': [0.001,0.01,0.1, 1, 5, 10, 50,100],  \n",
    "              'gamma': [1, 0.5, 0.1, 0.05, 0.01, 0.001, 0.0001], \n",
    "              'kernel': ['linear','rbf']}\n",
    "                                            \n",
    "grid_svm = GridSearchCV(estimator = model_svm,\n",
    "                        param_grid = param_svm,\n",
    "                        scoring='accuracy',\n",
    "                        cv = 5)\n",
    "                         \n",
    "grid_svm.fit(x_train,y_train)"
   ]
  },
  {
   "cell_type": "code",
   "execution_count": 577,
   "metadata": {},
   "outputs": [
    {
     "data": {
      "text/plain": [
       "{'C': 1, 'gamma': 0.1, 'kernel': 'rbf'}"
      ]
     },
     "execution_count": 577,
     "metadata": {},
     "output_type": "execute_result"
    }
   ],
   "source": [
    "grid_svm.best_params_"
   ]
  },
  {
   "cell_type": "code",
   "execution_count": 578,
   "metadata": {},
   "outputs": [
    {
     "data": {
      "text/plain": [
       "0.8342250237682821"
      ]
     },
     "execution_count": 578,
     "metadata": {},
     "output_type": "execute_result"
    }
   ],
   "source": [
    "grid_svm.best_score_"
   ]
  },
  {
   "cell_type": "markdown",
   "metadata": {},
   "source": [
    "Construcción del modelo"
   ]
  },
  {
   "cell_type": "code",
   "execution_count": 579,
   "metadata": {},
   "outputs": [
    {
     "data": {
      "text/plain": [
       "SVC(C=1, gamma=0.1, random_state=1)"
      ]
     },
     "execution_count": 579,
     "metadata": {},
     "output_type": "execute_result"
    }
   ],
   "source": [
    "model_svm = SVC(C = 1, gamma = 0.1, kernel = 'rbf',  random_state = 1)\n",
    "model_svm.fit(x_train, y_train)"
   ]
  },
  {
   "cell_type": "markdown",
   "metadata": {},
   "source": [
    "### Resultados SVM"
   ]
  },
  {
   "cell_type": "code",
   "execution_count": 580,
   "metadata": {},
   "outputs": [],
   "source": [
    "y_train_pred_SVM = model_svm.predict(x_train)\n",
    "y_test_pred_SVM = model_svm.predict(x_test)"
   ]
  },
  {
   "cell_type": "markdown",
   "metadata": {},
   "source": [
    "Matriz de confusión normalizada"
   ]
  },
  {
   "cell_type": "code",
   "execution_count": 581,
   "metadata": {},
   "outputs": [],
   "source": [
    "confusion_matrix_train_SVM = confusion_matrix(y_train, y_train_pred_SVM)\n",
    "confusion_matrix_test_SVM = confusion_matrix(y_test, y_test_pred_SVM)"
   ]
  },
  {
   "cell_type": "code",
   "execution_count": 582,
   "metadata": {},
   "outputs": [
    {
     "data": {
      "image/png": "[encoded data removed]",
      "text/plain": [
       "<Figure size 432x288 with 2 Axes>"
      ]
     },
     "metadata": {
      "needs_background": "light"
     },
     "output_type": "display_data"
    }
   ],
   "source": [
    "f, ax = plt.subplots()\n",
    "sns.heatmap(confusion_matrix_train_SVM, annot=True, fmt=\"d\")\n",
    "plt.title(\"Matriz de confusión SVM\", fontsize=20)\n",
    "ax.set_xticklabels(['Positivos reales', 'Negativos reales'], fontsize=10)\n",
    "ax.set_yticklabels(['Predicciones positivas', 'Predicciones negativas'], fontsize=10, rotation=360)\n",
    "plt.show()"
   ]
  },
  {
   "cell_type": "code",
   "execution_count": 583,
   "metadata": {},
   "outputs": [
    {
     "name": "stdout",
     "output_type": "stream",
     "text": [
      "La matriz de confusión para entrenamiento normalizada es\n",
      "[[0.91291291 0.14270833]\n",
      " [0.08708709 0.85729167]]\n",
      "La matriz de confusión para test normalizada es\n",
      "[[0.88435374 0.18527132]\n",
      " [0.11564626 0.81472868]]\n"
     ]
    }
   ],
   "source": [
    "print('La matriz de confusión para entrenamiento normalizada es')\n",
    "print(confusion_matrix_train_SVM / (sum(confusion_matrix_train_SVM)))\n",
    "print('La matriz de confusión para test normalizada es')\n",
    "print(confusion_matrix_test_SVM / (sum(confusion_matrix_test_SVM)))"
   ]
  },
  {
   "cell_type": "markdown",
   "metadata": {},
   "source": [
    "Métricas train"
   ]
  },
  {
   "cell_type": "code",
   "execution_count": 584,
   "metadata": {},
   "outputs": [
    {
     "name": "stdout",
     "output_type": "stream",
     "text": [
      "Exactitud SVM train: 0.8856559469116896\n",
      "Precisión SVM train: 0.8572916666666667\n",
      "Exhaustividad SVM train: 0.9043956043956044\n"
     ]
    }
   ],
   "source": [
    "print('Exactitud SVM train:',accuracy_score(y_train, y_train_pred_SVM))\n",
    "print('Precisión SVM train:',precision_score(y_train,y_train_pred_SVM))\n",
    "print('Exhaustividad SVM train:',recall_score(y_train,y_train_pred_SVM))"
   ]
  },
  {
   "cell_type": "markdown",
   "metadata": {},
   "source": [
    "Métricas test"
   ]
  },
  {
   "cell_type": "code",
   "execution_count": 585,
   "metadata": {},
   "outputs": [
    {
     "name": "stdout",
     "output_type": "stream",
     "text": [
      "Exactitud SVM test: 0.849980864906238\n",
      "Precisión SVM test: 0.8147286821705426\n",
      "Exhaustividad SVM test: 0.8729235880398671\n"
     ]
    }
   ],
   "source": [
    "precision_SVM = accuracy_score(y_test, y_test_pred_SVM)\n",
    "exactitud_SVM = precision_score(y_test,y_test_pred_SVM)\n",
    "exhaustividad_SVM = recall_score(y_test,y_test_pred_SVM)\n",
    "\n",
    "print('Exactitud SVM test:', precision_SVM)\n",
    "print('Precisión SVM test:', exactitud_SVM)\n",
    "print('Exhaustividad SVM test:', exhaustividad_SVM)"
   ]
  },
  {
   "cell_type": "markdown",
   "metadata": {},
   "source": [
    "Curva ROC y AUC"
   ]
  },
  {
   "cell_type": "code",
   "execution_count": 586,
   "metadata": {},
   "outputs": [],
   "source": [
    "fpr_SVM,tpr_SVM,threshold =roc_curve(y_test,y_test_pred_SVM)"
   ]
  },
  {
   "cell_type": "code",
   "execution_count": 587,
   "metadata": {},
   "outputs": [
    {
     "data": {
      "image/png": "[encoded data removed]",
      "text/plain": [
       "<Figure size 432x288 with 1 Axes>"
      ]
     },
     "metadata": {
      "needs_background": "light"
     },
     "output_type": "display_data"
    }
   ],
   "source": [
    "plt.figure()\n",
    "plt.plot(fpr_SVM,tpr_SVM)\n",
    "plt.plot([0, 1], [0, 1],'r--')\n",
    "plt.xlabel('False Positive Rate')\n",
    "plt.ylabel('True Positive Rate')\n",
    "plt.title('Curva ROC SVM')\n",
    "plt.show()"
   ]
  },
  {
   "cell_type": "code",
   "execution_count": 588,
   "metadata": {},
   "outputs": [
    {
     "name": "stdout",
     "output_type": "stream",
     "text": [
      "AUC SVM: 0.85164987067004\n"
     ]
    }
   ],
   "source": [
    "auc_SVM = roc_auc_score(y_test,y_test_pred_SVM)\n",
    "print('AUC SVM:', auc_SVM)"
   ]
  },
  {
   "cell_type": "markdown",
   "metadata": {},
   "source": [
    "## 4.3. KNN Classifier"
   ]
  },
  {
   "cell_type": "markdown",
   "metadata": {},
   "source": [
    "Búsqueda de hiperparámetros"
   ]
  },
  {
   "cell_type": "code",
   "execution_count": 522,
   "metadata": {},
   "outputs": [
    {
     "data": {
      "text/plain": [
       "GridSearchCV(cv=10, estimator=KNeighborsClassifier(),\n",
       "             param_grid={'n_neighbors': [3, 7, 9, 10, 12, 15, 18, 20, 50]},\n",
       "             scoring='accuracy')"
      ]
     },
     "execution_count": 522,
     "metadata": {},
     "output_type": "execute_result"
    }
   ],
   "source": [
    "model_knn = KNeighborsClassifier()\n",
    "grid_knn=GridSearchCV(estimator = model_knn,\n",
    "                      param_grid = {'n_neighbors':[3,7,9,10,12,15,18,20,50]},\n",
    "                      scoring = 'accuracy',\n",
    "                      cv=10)\n",
    "grid_knn.fit(x_train,y_train)"
   ]
  },
  {
   "cell_type": "code",
   "execution_count": 523,
   "metadata": {},
   "outputs": [
    {
     "data": {
      "text/plain": [
       "{'n_neighbors': 9}"
      ]
     },
     "execution_count": 523,
     "metadata": {},
     "output_type": "execute_result"
    }
   ],
   "source": [
    "grid_knn.best_params_"
   ]
  },
  {
   "cell_type": "code",
   "execution_count": 524,
   "metadata": {},
   "outputs": [
    {
     "data": {
      "text/plain": [
       "0.8015524408997315"
      ]
     },
     "execution_count": 524,
     "metadata": {},
     "output_type": "execute_result"
    }
   ],
   "source": [
    "grid_knn.best_score_"
   ]
  },
  {
   "cell_type": "markdown",
   "metadata": {},
   "source": [
    "Construcción del modelo"
   ]
  },
  {
   "cell_type": "code",
   "execution_count": 527,
   "metadata": {},
   "outputs": [
    {
     "data": {
      "text/plain": [
       "KNeighborsClassifier(n_neighbors=9)"
      ]
     },
     "execution_count": 527,
     "metadata": {},
     "output_type": "execute_result"
    }
   ],
   "source": [
    "model_knn = KNeighborsClassifier(n_neighbors=9)\n",
    "model_knn.fit(x_train, y_train)"
   ]
  },
  {
   "cell_type": "markdown",
   "metadata": {},
   "source": [
    "### Resultados KNN"
   ]
  },
  {
   "cell_type": "code",
   "execution_count": 528,
   "metadata": {},
   "outputs": [],
   "source": [
    "y_train_pred_KNN = model_knn.predict(x_train)\n",
    "y_test_pred_KNN = model_knn.predict(x_test)"
   ]
  },
  {
   "cell_type": "markdown",
   "metadata": {},
   "source": [
    "Matriz de confusión normalizada"
   ]
  },
  {
   "cell_type": "code",
   "execution_count": 529,
   "metadata": {},
   "outputs": [],
   "source": [
    "confusion_matrix_train_KNN = confusion_matrix(y_train, y_train_pred_KNN)\n",
    "confusion_matrix_test_KNN = confusion_matrix(y_test, y_test_pred_KNN)"
   ]
  },
  {
   "cell_type": "code",
   "execution_count": 530,
   "metadata": {},
   "outputs": [
    {
     "data": {
      "image/png": "[encoded data removed]",
      "text/plain": [
       "<Figure size 432x288 with 2 Axes>"
      ]
     },
     "metadata": {
      "needs_background": "light"
     },
     "output_type": "display_data"
    }
   ],
   "source": [
    "f, ax = plt.subplots()\n",
    "sns.heatmap(confusion_matrix_train_KNN, annot=True, fmt=\"d\")\n",
    "plt.title(\"Matriz de confusión KNN\", fontsize=20)\n",
    "ax.set_xticklabels(['Positivos reales', 'Negativos reales'], fontsize=10)\n",
    "ax.set_yticklabels(['Predicciones positivas', 'Predicciones negativas'], fontsize=10, rotation=360)\n",
    "plt.show()"
   ]
  },
  {
   "cell_type": "code",
   "execution_count": 531,
   "metadata": {},
   "outputs": [
    {
     "name": "stdout",
     "output_type": "stream",
     "text": [
      "La matriz de confusión para entrenamiento normalizada es\n",
      "[[0.8298793  0.16023222]\n",
      " [0.1701207  0.83976778]]\n",
      "La matriz de confusión para test normalizada es\n",
      "[[0.80849629 0.18584071]\n",
      " [0.19150371 0.81415929]]\n"
     ]
    }
   ],
   "source": [
    "print('La matriz de confusión para entrenamiento normalizada es')\n",
    "print(confusion_matrix_train_KNN / (sum(confusion_matrix_train_KNN)))\n",
    "print('La matriz de confusión para test normalizada es')\n",
    "print(confusion_matrix_test_KNN / (sum(confusion_matrix_test_KNN)))"
   ]
  },
  {
   "cell_type": "markdown",
   "metadata": {},
   "source": [
    "Métricas train"
   ]
  },
  {
   "cell_type": "code",
   "execution_count": 532,
   "metadata": {},
   "outputs": [
    {
     "name": "stdout",
     "output_type": "stream",
     "text": [
      "Exactitud KNN train: 0.8342266462480857\n",
      "Precisión KNN train: 0.8397677793904209\n",
      "Exhaustividad KNN train: 0.7947802197802197\n"
     ]
    }
   ],
   "source": [
    "print('Exactitud KNN train:',accuracy_score(y_train, y_train_pred_KNN))\n",
    "print('Precisión KNN train:',precision_score(y_train,y_train_pred_KNN))\n",
    "print('Exhaustividad KNN train:',recall_score(y_train,y_train_pred_KNN))"
   ]
  },
  {
   "cell_type": "markdown",
   "metadata": {},
   "source": [
    "Métricas test"
   ]
  },
  {
   "cell_type": "code",
   "execution_count": 533,
   "metadata": {},
   "outputs": [
    {
     "name": "stdout",
     "output_type": "stream",
     "text": [
      "Exactitud KNN test: 0.8109452736318408\n",
      "Precisión KNN test: 0.8141592920353983\n",
      "Exhaustividad KNN test: 0.7641196013289037\n"
     ]
    }
   ],
   "source": [
    "precision_KNN = accuracy_score(y_test, y_test_pred_KNN)\n",
    "exactitud_KNN = precision_score(y_test,y_test_pred_KNN)\n",
    "exhaustividad_KNN = recall_score(y_test,y_test_pred_KNN)\n",
    "\n",
    "print('Exactitud KNN test:', precision_KNN)\n",
    "print('Precisión KNN test:', exactitud_KNN)\n",
    "print('Exhaustividad KNN test:', exhaustividad_KNN)"
   ]
  },
  {
   "cell_type": "markdown",
   "metadata": {},
   "source": [
    "Curva ROC y AUC"
   ]
  },
  {
   "cell_type": "code",
   "execution_count": 534,
   "metadata": {},
   "outputs": [],
   "source": [
    "fpr_KNN,tpr_KNN,threshold =roc_curve(y_test,y_test_pred_KNN)"
   ]
  },
  {
   "cell_type": "code",
   "execution_count": 535,
   "metadata": {},
   "outputs": [
    {
     "data": {
      "image/png": "[encoded data removed]",
      "text/plain": [
       "<Figure size 432x288 with 1 Axes>"
      ]
     },
     "metadata": {
      "needs_background": "light"
     },
     "output_type": "display_data"
    }
   ],
   "source": [
    "plt.figure()\n",
    "plt.plot(fpr_KNN,tpr_KNN)\n",
    "plt.plot([0, 1], [0, 1],'r--')\n",
    "plt.xlabel('False Positive Rate')\n",
    "plt.ylabel('True Positive Rate')\n",
    "plt.title('Curva ROC KNN')\n",
    "plt.show()"
   ]
  },
  {
   "cell_type": "code",
   "execution_count": 536,
   "metadata": {},
   "outputs": [
    {
     "name": "stdout",
     "output_type": "stream",
     "text": [
      "AUC KNN: 0.8489241562900103\n"
     ]
    }
   ],
   "source": [
    "auc_KNN = roc_auc_score(y_test,y_test_pred_KNN)\n",
    "print('AUC KNN:', auc_SVM)"
   ]
  },
  {
   "cell_type": "markdown",
   "metadata": {},
   "source": [
    "## 4.4. Naïve Bayes"
   ]
  },
  {
   "cell_type": "markdown",
   "metadata": {},
   "source": [
    "Construcción del modelo"
   ]
  },
  {
   "cell_type": "code",
   "execution_count": 537,
   "metadata": {},
   "outputs": [
    {
     "data": {
      "text/plain": [
       "GaussianNB()"
      ]
     },
     "execution_count": 537,
     "metadata": {},
     "output_type": "execute_result"
    }
   ],
   "source": [
    "model_gb=GaussianNB()\n",
    "model_gb.fit(x_train,y_train)"
   ]
  },
  {
   "cell_type": "markdown",
   "metadata": {},
   "source": [
    "### Resultados NB "
   ]
  },
  {
   "cell_type": "code",
   "execution_count": 538,
   "metadata": {},
   "outputs": [],
   "source": [
    "y_train_pred_NB = model_gb.predict(x_train)\n",
    "y_test_pred_NB = model_gb.predict(x_test)"
   ]
  },
  {
   "cell_type": "markdown",
   "metadata": {},
   "source": [
    "Matriz de confusión normalizada"
   ]
  },
  {
   "cell_type": "code",
   "execution_count": 539,
   "metadata": {},
   "outputs": [],
   "source": [
    "confusion_matrix_train_NB = confusion_matrix(y_train, y_train_pred_NB)\n",
    "confusion_matrix_test_NB = confusion_matrix(y_test, y_test_pred_NB)"
   ]
  },
  {
   "cell_type": "code",
   "execution_count": 540,
   "metadata": {},
   "outputs": [
    {
     "data": {
      "image/png": "[encoded data removed]",
      "text/plain": [
       "<Figure size 432x288 with 2 Axes>"
      ]
     },
     "metadata": {
      "needs_background": "light"
     },
     "output_type": "display_data"
    }
   ],
   "source": [
    "f, ax = plt.subplots()\n",
    "sns.heatmap(confusion_matrix_train_NB, annot=True, fmt=\"d\")\n",
    "plt.title(\"Matriz de confusión NB\", fontsize=20)\n",
    "ax.set_xticklabels(['Positivos reales', 'Negativos reales'], fontsize=10)\n",
    "ax.set_yticklabels(['Predicciones positivas', 'Predicciones negativas'], fontsize=10, rotation=360)\n",
    "plt.show()"
   ]
  },
  {
   "cell_type": "code",
   "execution_count": 541,
   "metadata": {},
   "outputs": [
    {
     "name": "stdout",
     "output_type": "stream",
     "text": [
      "La matriz de confusión para entrenamiento normalizada es\n",
      "[[0.68277831 0.23556761]\n",
      " [0.31722169 0.76443239]]\n",
      "La matriz de confusión para test normalizada es\n",
      "[[0.69477912 0.22758621]\n",
      " [0.30522088 0.77241379]]\n"
     ]
    }
   ],
   "source": [
    "print('La matriz de confusión para entrenamiento normalizada es')\n",
    "print(confusion_matrix_train_NB / (sum(confusion_matrix_train_NB)))\n",
    "print('La matriz de confusión para test normalizada es')\n",
    "print(confusion_matrix_test_NB / (sum(confusion_matrix_test_NB)))"
   ]
  },
  {
   "cell_type": "markdown",
   "metadata": {},
   "source": [
    "Métricas train"
   ]
  },
  {
   "cell_type": "code",
   "execution_count": 542,
   "metadata": {},
   "outputs": [
    {
     "name": "stdout",
     "output_type": "stream",
     "text": [
      "Exactitud NB train: 0.7096733027054619\n",
      "Precisión NB train: 0.7644323905462999\n",
      "Exhaustividad NB train: 0.542032967032967\n"
     ]
    }
   ],
   "source": [
    "print('Exactitud NB train:',accuracy_score(y_train, y_train_pred_NB))\n",
    "print('Precisión NB train:',precision_score(y_train,y_train_pred_NB))\n",
    "print('Exhaustividad NB train:',recall_score(y_train,y_train_pred_NB))"
   ]
  },
  {
   "cell_type": "markdown",
   "metadata": {},
   "source": [
    "Métricas test"
   ]
  },
  {
   "cell_type": "code",
   "execution_count": 543,
   "metadata": {},
   "outputs": [
    {
     "name": "stdout",
     "output_type": "stream",
     "text": [
      "Exactitud NB test: 0.7206276310753923\n",
      "Precisión NB test: 0.7724137931034483\n",
      "Exhaustividad NB test: 0.5581395348837209\n"
     ]
    }
   ],
   "source": [
    "precision_NB = accuracy_score(y_test, y_test_pred_NB)\n",
    "exactitud_NB = precision_score(y_test,y_test_pred_NB)\n",
    "exhaustividad_NB = recall_score(y_test,y_test_pred_NB)\n",
    "\n",
    "print('Exactitud NB test:', precision_NB)\n",
    "print('Precisión NB test:', exactitud_NB)\n",
    "print('Exhaustividad NB test:', exhaustividad_NB)"
   ]
  },
  {
   "cell_type": "markdown",
   "metadata": {},
   "source": [
    "Curva ROC y AUC"
   ]
  },
  {
   "cell_type": "code",
   "execution_count": 544,
   "metadata": {},
   "outputs": [],
   "source": [
    "fpr_NB,tpr_NB,threshold =roc_curve(y_test,y_test_pred_NB)"
   ]
  },
  {
   "cell_type": "code",
   "execution_count": 545,
   "metadata": {},
   "outputs": [
    {
     "data": {
      "image/png": "[encoded data removed]",
      "text/plain": [
       "<Figure size 432x288 with 1 Axes>"
      ]
     },
     "metadata": {
      "needs_background": "light"
     },
     "output_type": "display_data"
    }
   ],
   "source": [
    "plt.figure()\n",
    "plt.plot(fpr_NB,tpr_NB)\n",
    "plt.plot([0, 1], [0, 1],'r--')\n",
    "plt.xlabel('False Positive Rate')\n",
    "plt.ylabel('True Positive Rate')\n",
    "plt.title('Curva ROC Naïve Bayes')\n",
    "plt.show()"
   ]
  },
  {
   "cell_type": "code",
   "execution_count": 546,
   "metadata": {},
   "outputs": [
    {
     "name": "stdout",
     "output_type": "stream",
     "text": [
      "AUC NB: 0.7088071698549194\n"
     ]
    }
   ],
   "source": [
    "auc_NB = roc_auc_score(y_test,y_test_pred_NB)\n",
    "print('AUC NB:',auc_NB)"
   ]
  },
  {
   "cell_type": "markdown",
   "metadata": {},
   "source": [
    "## 4.5. Regresión logística "
   ]
  },
  {
   "cell_type": "markdown",
   "metadata": {},
   "source": [
    "Búsqueda de hiperparámetros"
   ]
  },
  {
   "cell_type": "code",
   "execution_count": 548,
   "metadata": {},
   "outputs": [
    {
     "data": {
      "text/plain": [
       "GridSearchCV(cv=5, estimator=LogisticRegression(max_iter=1000),\n",
       "             param_grid={'C': [1e-05, 0.0001, 0.001, 0.01, 0.1, 1, 10, 100],\n",
       "                         'penalty': ['l1', 'l2'],\n",
       "                         'solver': ['liblinear', 'saga']},\n",
       "             scoring='accuracy')"
      ]
     },
     "execution_count": 548,
     "metadata": {},
     "output_type": "execute_result"
    }
   ],
   "source": [
    "model_rl = LogisticRegression(max_iter = 1000)\n",
    "\n",
    "param_rl = {'C': [1e-5, 1e-4, 1e-3, 1e-2, 1e-1, 1, 10, 100],\n",
    "            'penalty': ['l1','l2'],\n",
    "            'solver': ['liblinear','saga']}\n",
    "                                            \n",
    "grid_rl = GridSearchCV(estimator = model_rl,\n",
    "                        param_grid = param_rl,\n",
    "                        scoring = 'accuracy',\n",
    "                        cv = 5)\n",
    "\n",
    "grid_rl.fit(x_train,y_train)"
   ]
  },
  {
   "cell_type": "code",
   "execution_count": 549,
   "metadata": {},
   "outputs": [
    {
     "data": {
      "text/plain": [
       "{'C': 1, 'penalty': 'l2', 'solver': 'saga'}"
      ]
     },
     "execution_count": 549,
     "metadata": {},
     "output_type": "execute_result"
    }
   ],
   "source": [
    "grid_rl.best_params_"
   ]
  },
  {
   "cell_type": "code",
   "execution_count": 550,
   "metadata": {},
   "outputs": [
    {
     "data": {
      "text/plain": [
       "0.8172523540367008"
      ]
     },
     "execution_count": 550,
     "metadata": {},
     "output_type": "execute_result"
    }
   ],
   "source": [
    "grid_rl.best_score_"
   ]
  },
  {
   "cell_type": "markdown",
   "metadata": {},
   "source": [
    "Construcción del modelo"
   ]
  },
  {
   "cell_type": "code",
   "execution_count": 551,
   "metadata": {},
   "outputs": [
    {
     "data": {
      "text/plain": [
       "LogisticRegression(C=10, max_iter=1000, penalty='l1', random_state=1,\n",
       "                   solver='liblinear')"
      ]
     },
     "execution_count": 551,
     "metadata": {},
     "output_type": "execute_result"
    }
   ],
   "source": [
    "model_RL = LogisticRegression(max_iter = 1000, penalty = 'l1', solver = 'liblinear', random_state=1, C = 10)\n",
    "model_RL.fit(x_train,y_train)"
   ]
  },
  {
   "cell_type": "markdown",
   "metadata": {},
   "source": [
    "### Resultados"
   ]
  },
  {
   "cell_type": "code",
   "execution_count": 552,
   "metadata": {},
   "outputs": [],
   "source": [
    "y_train_pred_RL = model_RL.predict(x_train)\n",
    "y_test_pred_RL = model_RL.predict(x_test)"
   ]
  },
  {
   "cell_type": "markdown",
   "metadata": {},
   "source": [
    "Matriz de confusión normalizada"
   ]
  },
  {
   "cell_type": "code",
   "execution_count": 553,
   "metadata": {},
   "outputs": [],
   "source": [
    "confusion_matrix_train_RL = confusion_matrix(y_train, y_train_pred_RL)\n",
    "confusion_matrix_test_RL = confusion_matrix(y_test, y_test_pred_RL)"
   ]
  },
  {
   "cell_type": "code",
   "execution_count": 554,
   "metadata": {},
   "outputs": [
    {
     "data": {
      "image/png": "[encoded data removed]",
      "text/plain": [
       "<Figure size 432x288 with 2 Axes>"
      ]
     },
     "metadata": {
      "needs_background": "light"
     },
     "output_type": "display_data"
    }
   ],
   "source": [
    "f, ax = plt.subplots()\n",
    "sns.heatmap(confusion_matrix_train_RL, annot=True, fmt=\"d\")\n",
    "plt.title(\"Matriz de confusión RL\", fontsize=20)\n",
    "ax.set_xticklabels(['Positivos reales', 'Negativos reales'], fontsize=10)\n",
    "ax.set_yticklabels(['Predicciones positivas', 'Predicciones negativas'], fontsize=10, rotation=360)\n",
    "plt.show()"
   ]
  },
  {
   "cell_type": "code",
   "execution_count": 555,
   "metadata": {},
   "outputs": [
    {
     "name": "stdout",
     "output_type": "stream",
     "text": [
      "La matriz de confusión para entrenamiento normalizada es\n",
      "[[0.82058288 0.17189315]\n",
      " [0.17941712 0.82810685]]\n",
      "La matriz de confusión para test normalizada es\n",
      "[[0.82933516 0.17244367]\n",
      " [0.17066484 0.82755633]]\n"
     ]
    }
   ],
   "source": [
    "print('La matriz de confusión para entrenamiento normalizada es')\n",
    "print(confusion_matrix_train_RL / (sum(confusion_matrix_train_RL)))\n",
    "print('La matriz de confusión para test normalizada es')\n",
    "print(confusion_matrix_test_RL / (sum(confusion_matrix_test_RL)))"
   ]
  },
  {
   "cell_type": "markdown",
   "metadata": {},
   "source": [
    "Métricas train"
   ]
  },
  {
   "cell_type": "code",
   "execution_count": 556,
   "metadata": {},
   "outputs": [
    {
     "name": "stdout",
     "output_type": "stream",
     "text": [
      "Exactitud RL train: 0.8238897396630934\n",
      "Precisión RL train: 0.8281068524970964\n",
      "Exhaustividad RL train: 0.7835164835164835\n"
     ]
    }
   ],
   "source": [
    "print('Exactitud RL train:',accuracy_score(y_train, y_train_pred_RL))\n",
    "print('Precisión RL train:',precision_score(y_train,y_train_pred_RL))\n",
    "print('Exhaustividad RL train:',recall_score(y_train,y_train_pred_RL))"
   ]
  },
  {
   "cell_type": "markdown",
   "metadata": {},
   "source": [
    "Métricas test"
   ]
  },
  {
   "cell_type": "code",
   "execution_count": 557,
   "metadata": {},
   "outputs": [
    {
     "name": "stdout",
     "output_type": "stream",
     "text": [
      "Exactitud RL test: 0.8285495598928435\n",
      "Precisión RL test: 0.8275563258232236\n",
      "Exhaustividad RL test: 0.7931893687707641\n"
     ]
    }
   ],
   "source": [
    "precision_RL = accuracy_score(y_test, y_test_pred_RL)\n",
    "exactitud_RL = precision_score(y_test,y_test_pred_RL)\n",
    "exhaustividad_RL = recall_score(y_test,y_test_pred_RL)\n",
    "\n",
    "print('Exactitud RL test:', precision_RL)\n",
    "print('Precisión RL test:', exactitud_RL)\n",
    "print('Exhaustividad RL test:', exhaustividad_RL)"
   ]
  },
  {
   "cell_type": "markdown",
   "metadata": {},
   "source": [
    "Curva ROC y AUC"
   ]
  },
  {
   "cell_type": "code",
   "execution_count": 558,
   "metadata": {},
   "outputs": [],
   "source": [
    "fpr_RL,tpr_RL,threshold =roc_curve(y_test,y_test_pred_RL)"
   ]
  },
  {
   "cell_type": "code",
   "execution_count": 559,
   "metadata": {},
   "outputs": [
    {
     "data": {
      "image/png": "[encoded data removed]",
      "text/plain": [
       "<Figure size 432x288 with 1 Axes>"
      ]
     },
     "metadata": {
      "needs_background": "light"
     },
     "output_type": "display_data"
    }
   ],
   "source": [
    "plt.figure()\n",
    "plt.plot(fpr_RL,tpr_RL)\n",
    "plt.plot([0, 1], [0, 1],'r--')\n",
    "plt.xlabel('False Positive Rate')\n",
    "plt.ylabel('True Positive Rate')\n",
    "plt.title('Curva ROC Regresión Logística')\n",
    "plt.show()"
   ]
  },
  {
   "cell_type": "code",
   "execution_count": 560,
   "metadata": {},
   "outputs": [
    {
     "name": "stdout",
     "output_type": "stream",
     "text": [
      "AUC RL: 0.8259772251944665\n"
     ]
    }
   ],
   "source": [
    "auc_RL = roc_auc_score(y_test,y_test_pred_RL)\n",
    "print('AUC RL:',auc_RL)"
   ]
  },
  {
   "cell_type": "markdown",
   "metadata": {},
   "source": [
    "# 5. Resultados"
   ]
  },
  {
   "cell_type": "markdown",
   "metadata": {},
   "source": [
    "Variables relevantes"
   ]
  },
  {
   "cell_type": "code",
   "execution_count": 571,
   "metadata": {},
   "outputs": [],
   "source": [
    "relevancia = model_forest.feature_importances_\n",
    "variables_relevancia = pd.Series(relevancia,index=x_train.columns).sort_values(ascending=False)"
   ]
  },
  {
   "cell_type": "code",
   "execution_count": 572,
   "metadata": {},
   "outputs": [
    {
     "data": {
      "image/png": "[encoded data removed]",
      "text/plain": [
       "<Figure size 432x288 with 1 Axes>"
      ]
     },
     "metadata": {
      "needs_background": "light"
     },
     "output_type": "display_data"
    }
   ],
   "source": [
    "sns.barplot(x=variables_relevancia[0:10], y=variables_relevancia.index[0:10])\n",
    "plt.xlabel(\"Relevancia de variables\")\n",
    "plt.ylabel(\"Variables\")\n",
    "plt.show()"
   ]
  },
  {
   "cell_type": "code",
   "execution_count": 573,
   "metadata": {},
   "outputs": [
    {
     "data": {
      "image/png": "[encoded data removed]",
      "text/plain": [
       "<Figure size 432x288 with 1 Axes>"
      ]
     },
     "metadata": {
      "needs_background": "light"
     },
     "output_type": "display_data"
    }
   ],
   "source": [
    "sns.barplot(x=variables_relevancia[-10:], y=variables_relevancia.index[-10:])\n",
    "plt.xlabel(\"Relevancia de variables\")\n",
    "plt.ylabel(\"Variables\")\n",
    "plt.show()"
   ]
  },
  {
   "cell_type": "markdown",
   "metadata": {},
   "source": [
    "Comparación métricas"
   ]
  },
  {
   "cell_type": "code",
   "execution_count": 589,
   "metadata": {},
   "outputs": [],
   "source": [
    "df_res = pd.DataFrame()\n",
    "df_res['Modelos'] = ['RandomForest','SVM','KNeighbors','NaiveBayes', 'RegresionLogistica']\n",
    "df_res['Exactitud'] = [precision_RF, precision_SVM, precision_KNN, precision_NB, precision_RL]\n",
    "df_res['Precisión']=[exactitud_RF, exactitud_SVM, exactitud_KNN, exactitud_NB, exactitud_RL]\n",
    "df_res['Exhaustividad']=[exhaustividad_RF, exhaustividad_SVM, exhaustividad_KNN, exhaustividad_NB, exhaustividad_RL]"
   ]
  },
  {
   "cell_type": "code",
   "execution_count": 590,
   "metadata": {},
   "outputs": [
    {
     "data": {
      "text/html": [
       "<style  type=\"text/css\" >\n",
       "    #T_f7671c85_8a6a_11ec_b3de_85362f78e72brow0_col1 {\n",
       "            background-color:  #2e8b57;\n",
       "            color:  #000000;\n",
       "        }    #T_f7671c85_8a6a_11ec_b3de_85362f78e72brow0_col2 {\n",
       "            background-color:  #4e9d71;\n",
       "            color:  #000000;\n",
       "        }    #T_f7671c85_8a6a_11ec_b3de_85362f78e72brow0_col3 {\n",
       "            background-color:  #2f8c58;\n",
       "            color:  #000000;\n",
       "        }    #T_f7671c85_8a6a_11ec_b3de_85362f78e72brow1_col1 {\n",
       "            background-color:  #2f8c58;\n",
       "            color:  #000000;\n",
       "        }    #T_f7671c85_8a6a_11ec_b3de_85362f78e72brow1_col2 {\n",
       "            background-color:  #5aa47b;\n",
       "            color:  #000000;\n",
       "        }    #T_f7671c85_8a6a_11ec_b3de_85362f78e72brow1_col3 {\n",
       "            background-color:  #2e8b57;\n",
       "            color:  #000000;\n",
       "        }    #T_f7671c85_8a6a_11ec_b3de_85362f78e72brow2_col1 {\n",
       "            background-color:  #68ad86;\n",
       "            color:  #000000;\n",
       "        }    #T_f7671c85_8a6a_11ec_b3de_85362f78e72brow2_col2 {\n",
       "            background-color:  #5ca67d;\n",
       "            color:  #000000;\n",
       "        }    #T_f7671c85_8a6a_11ec_b3de_85362f78e72brow2_col3 {\n",
       "            background-color:  #70b18c;\n",
       "            color:  #000000;\n",
       "        }    #T_f7671c85_8a6a_11ec_b3de_85362f78e72brow3_col1 {\n",
       "            background-color:  #ecf9f1;\n",
       "            color:  #000000;\n",
       "        }    #T_f7671c85_8a6a_11ec_b3de_85362f78e72brow3_col2 {\n",
       "            background-color:  #ecf9f1;\n",
       "            color:  #000000;\n",
       "        }    #T_f7671c85_8a6a_11ec_b3de_85362f78e72brow3_col3 {\n",
       "            background-color:  #ecf9f1;\n",
       "            color:  #000000;\n",
       "        }    #T_f7671c85_8a6a_11ec_b3de_85362f78e72brow4_col1 {\n",
       "            background-color:  #4f9e72;\n",
       "            color:  #000000;\n",
       "        }    #T_f7671c85_8a6a_11ec_b3de_85362f78e72brow4_col2 {\n",
       "            background-color:  #2e8b57;\n",
       "            color:  #000000;\n",
       "        }    #T_f7671c85_8a6a_11ec_b3de_85362f78e72brow4_col3 {\n",
       "            background-color:  #5ea77e;\n",
       "            color:  #000000;\n",
       "        }</style><table id=\"T_f7671c85_8a6a_11ec_b3de_85362f78e72b\" ><thead>    <tr>        <th class=\"blank level0\" ></th>        <th class=\"col_heading level0 col0\" >Modelos</th>        <th class=\"col_heading level0 col1\" >Exactitud</th>        <th class=\"col_heading level0 col2\" >Precisión</th>        <th class=\"col_heading level0 col3\" >Exhaustividad</th>    </tr></thead><tbody>\n",
       "                <tr>\n",
       "                        <th id=\"T_f7671c85_8a6a_11ec_b3de_85362f78e72blevel0_row0\" class=\"row_heading level0 row0\" >0</th>\n",
       "                        <td id=\"T_f7671c85_8a6a_11ec_b3de_85362f78e72brow0_col0\" class=\"data row0 col0\" >RandomForest</td>\n",
       "                        <td id=\"T_f7671c85_8a6a_11ec_b3de_85362f78e72brow0_col1\" class=\"data row0 col1\" >0.851129</td>\n",
       "                        <td id=\"T_f7671c85_8a6a_11ec_b3de_85362f78e72brow0_col2\" class=\"data row0 col2\" >0.818111</td>\n",
       "                        <td id=\"T_f7671c85_8a6a_11ec_b3de_85362f78e72brow0_col3\" class=\"data row0 col3\" >0.870432</td>\n",
       "            </tr>\n",
       "            <tr>\n",
       "                        <th id=\"T_f7671c85_8a6a_11ec_b3de_85362f78e72blevel0_row1\" class=\"row_heading level0 row1\" >1</th>\n",
       "                        <td id=\"T_f7671c85_8a6a_11ec_b3de_85362f78e72brow1_col0\" class=\"data row1 col0\" >SVM</td>\n",
       "                        <td id=\"T_f7671c85_8a6a_11ec_b3de_85362f78e72brow1_col1\" class=\"data row1 col1\" >0.849981</td>\n",
       "                        <td id=\"T_f7671c85_8a6a_11ec_b3de_85362f78e72brow1_col2\" class=\"data row1 col2\" >0.814729</td>\n",
       "                        <td id=\"T_f7671c85_8a6a_11ec_b3de_85362f78e72brow1_col3\" class=\"data row1 col3\" >0.872924</td>\n",
       "            </tr>\n",
       "            <tr>\n",
       "                        <th id=\"T_f7671c85_8a6a_11ec_b3de_85362f78e72blevel0_row2\" class=\"row_heading level0 row2\" >2</th>\n",
       "                        <td id=\"T_f7671c85_8a6a_11ec_b3de_85362f78e72brow2_col0\" class=\"data row2 col0\" >KNeighbors</td>\n",
       "                        <td id=\"T_f7671c85_8a6a_11ec_b3de_85362f78e72brow2_col1\" class=\"data row2 col1\" >0.810945</td>\n",
       "                        <td id=\"T_f7671c85_8a6a_11ec_b3de_85362f78e72brow2_col2\" class=\"data row2 col2\" >0.814159</td>\n",
       "                        <td id=\"T_f7671c85_8a6a_11ec_b3de_85362f78e72brow2_col3\" class=\"data row2 col3\" >0.764120</td>\n",
       "            </tr>\n",
       "            <tr>\n",
       "                        <th id=\"T_f7671c85_8a6a_11ec_b3de_85362f78e72blevel0_row3\" class=\"row_heading level0 row3\" >3</th>\n",
       "                        <td id=\"T_f7671c85_8a6a_11ec_b3de_85362f78e72brow3_col0\" class=\"data row3 col0\" >NaiveBayes</td>\n",
       "                        <td id=\"T_f7671c85_8a6a_11ec_b3de_85362f78e72brow3_col1\" class=\"data row3 col1\" >0.720628</td>\n",
       "                        <td id=\"T_f7671c85_8a6a_11ec_b3de_85362f78e72brow3_col2\" class=\"data row3 col2\" >0.772414</td>\n",
       "                        <td id=\"T_f7671c85_8a6a_11ec_b3de_85362f78e72brow3_col3\" class=\"data row3 col3\" >0.558140</td>\n",
       "            </tr>\n",
       "            <tr>\n",
       "                        <th id=\"T_f7671c85_8a6a_11ec_b3de_85362f78e72blevel0_row4\" class=\"row_heading level0 row4\" >4</th>\n",
       "                        <td id=\"T_f7671c85_8a6a_11ec_b3de_85362f78e72brow4_col0\" class=\"data row4 col0\" >RegresionLogistica</td>\n",
       "                        <td id=\"T_f7671c85_8a6a_11ec_b3de_85362f78e72brow4_col1\" class=\"data row4 col1\" >0.828550</td>\n",
       "                        <td id=\"T_f7671c85_8a6a_11ec_b3de_85362f78e72brow4_col2\" class=\"data row4 col2\" >0.827556</td>\n",
       "                        <td id=\"T_f7671c85_8a6a_11ec_b3de_85362f78e72brow4_col3\" class=\"data row4 col3\" >0.793189</td>\n",
       "            </tr>\n",
       "    </tbody></table>"
      ],
      "text/plain": [
       "<pandas.io.formats.style.Styler at 0x1c3e70912b0>"
      ]
     },
     "execution_count": 590,
     "metadata": {},
     "output_type": "execute_result"
    }
   ],
   "source": [
    "cm = sns.light_palette('seagreen',as_cmap=True)\n",
    "res = df_res.style.background_gradient(cmap=cm)\n",
    "res"
   ]
  },
  {
   "cell_type": "markdown",
   "metadata": {},
   "source": [
    "Comparación curvas ROC y AUC"
   ]
  },
  {
   "cell_type": "code",
   "execution_count": 591,
   "metadata": {},
   "outputs": [
    {
     "data": {
      "image/png": "[encoded data removed]",
      "text/plain": [
       "<Figure size 432x288 with 1 Axes>"
      ]
     },
     "metadata": {
      "needs_background": "light"
     },
     "output_type": "display_data"
    }
   ],
   "source": [
    "plt.figure()\n",
    "plt.plot(fpr_RF, tpr_RF, label = 'RF ' \"(%0.3f)\" % auc_RF)\n",
    "plt.plot(fpr_SVM, tpr_SVM, label = 'SVM '\"(%0.3f)\" % auc_SVM)\n",
    "plt.plot(fpr_KNN, tpr_KNN, label = 'KNN '\"(%0.3f)\" % auc_KNN)\n",
    "plt.plot(fpr_NB, tpr_NB, label = 'NB '\"(%0.3f)\" % auc_NB)\n",
    "plt.plot(fpr_RL, tpr_RL, label = 'RL '\"(%0.3f)\" % auc_RL)\n",
    "plt.plot([0, 1], [0, 1],'--')\n",
    "plt.xlabel('False Positive Rate')\n",
    "plt.ylabel('True Positive Rate')\n",
    "plt.title('Comparativa curvas ROC')\n",
    "plt.legend()\n",
    "plt.show()"
   ]
  },
  {
   "cell_type": "code",
   "execution_count": 592,
   "metadata": {},
   "outputs": [
    {
     "data": {
      "text/html": [
       "<div>\n",
       "<style scoped>\n",
       "    .dataframe tbody tr th:only-of-type {\n",
       "        vertical-align: middle;\n",
       "    }\n",
       "\n",
       "    .dataframe tbody tr th {\n",
       "        vertical-align: top;\n",
       "    }\n",
       "\n",
       "    .dataframe thead th {\n",
       "        text-align: right;\n",
       "    }\n",
       "</style>\n",
       "<table border=\"1\" class=\"dataframe\">\n",
       "  <thead>\n",
       "    <tr style=\"text-align: right;\">\n",
       "      <th></th>\n",
       "      <th>Modelos</th>\n",
       "      <th>AUC</th>\n",
       "    </tr>\n",
       "  </thead>\n",
       "  <tbody>\n",
       "    <tr>\n",
       "      <th>0</th>\n",
       "      <td>RandomForest</td>\n",
       "      <td>0.852533</td>\n",
       "    </tr>\n",
       "    <tr>\n",
       "      <th>1</th>\n",
       "      <td>SVM</td>\n",
       "      <td>0.851650</td>\n",
       "    </tr>\n",
       "    <tr>\n",
       "      <th>4</th>\n",
       "      <td>RegresionLogistica</td>\n",
       "      <td>0.825977</td>\n",
       "    </tr>\n",
       "    <tr>\n",
       "      <th>2</th>\n",
       "      <td>KNeighbors</td>\n",
       "      <td>0.807539</td>\n",
       "    </tr>\n",
       "    <tr>\n",
       "      <th>3</th>\n",
       "      <td>NaiveBayes</td>\n",
       "      <td>0.708807</td>\n",
       "    </tr>\n",
       "  </tbody>\n",
       "</table>\n",
       "</div>"
      ],
      "text/plain": [
       "              Modelos       AUC\n",
       "0        RandomForest  0.852533\n",
       "1                 SVM  0.851650\n",
       "4  RegresionLogistica  0.825977\n",
       "2          KNeighbors  0.807539\n",
       "3          NaiveBayes  0.708807"
      ]
     },
     "execution_count": 592,
     "metadata": {},
     "output_type": "execute_result"
    }
   ],
   "source": [
    "df_auc = pd.DataFrame()\n",
    "df_auc['Modelos'] = ['RandomForest','SVM','KNeighbors','NaiveBayes', 'RegresionLogistica']\n",
    "df_auc['AUC'] = [auc_RF, auc_SVM, auc_KNN, auc_NB, auc_RL]\n",
    "orden = df_auc.sort_values('AUC', ascending = False)\n",
    "orden"
   ]
  }
 ],
 "metadata": {
  "kernelspec": {
   "display_name": "Python 3",
   "language": "python",
   "name": "python3"
  },
  "language_info": {
   "codemirror_mode": {
    "name": "ipython",
    "version": 3
   },
   "file_extension": ".py",
   "mimetype": "text/x-python",
   "name": "python",
   "nbconvert_exporter": "python",
   "pygments_lexer": "ipython3",
   "version": "3.8.3"
  }
 },
 "nbformat": 4,
 "nbformat_minor": 4
}
